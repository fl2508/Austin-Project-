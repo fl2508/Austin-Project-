{
  "nbformat": 4,
  "nbformat_minor": 0,
  "metadata": {
    "colab": {
      "name": "Exploring Austin Gentrification",
      "provenance": [],
      "collapsed_sections": [],
      "include_colab_link": true
    },
    "kernelspec": {
      "name": "python3",
      "display_name": "Python 3"
    }
  },
  "cells": [
    {
      "cell_type": "markdown",
      "metadata": {
        "id": "view-in-github",
        "colab_type": "text"
      },
      "source": [
        "<a href=\"https://colab.research.google.com/github/fl2508/Austin-Project-/blob/master/Exploring_Austin_Gentrification.ipynb\" target=\"_parent\"><img src=\"https://colab.research.google.com/assets/colab-badge.svg\" alt=\"Open In Colab\"/></a>"
      ]
    },
    {
      "cell_type": "markdown",
      "metadata": {
        "id": "yl18rLLZkqAc",
        "colab_type": "text"
      },
      "source": [
        "# Exploring Austin Gentrification "
      ]
    },
    {
      "cell_type": "code",
      "metadata": {
        "id": "mXTn6dUgki-l",
        "colab_type": "code",
        "outputId": "a28036aa-e72f-40d7-807f-fdc02162765e",
        "colab": {
          "base_uri": "https://localhost:8080/",
          "height": 1000
        }
      },
      "source": [
        "!apt install libspatialindex-dev\n",
        "!pip install CensusData geopandas earthpy"
      ],
      "execution_count": 1,
      "outputs": [
        {
          "output_type": "stream",
          "text": [
            "Reading package lists... Done\n",
            "Building dependency tree       \n",
            "Reading state information... Done\n",
            "The following package was automatically installed and is no longer required:\n",
            "  libnvidia-common-430\n",
            "Use 'apt autoremove' to remove it.\n",
            "The following additional packages will be installed:\n",
            "  libspatialindex-c4v5 libspatialindex4v5\n",
            "The following NEW packages will be installed:\n",
            "  libspatialindex-c4v5 libspatialindex-dev libspatialindex4v5\n",
            "0 upgraded, 3 newly installed, 0 to remove and 7 not upgraded.\n",
            "Need to get 555 kB of archives.\n",
            "After this operation, 3,308 kB of additional disk space will be used.\n",
            "Get:1 http://archive.ubuntu.com/ubuntu bionic/universe amd64 libspatialindex4v5 amd64 1.8.5-5 [219 kB]\n",
            "Get:2 http://archive.ubuntu.com/ubuntu bionic/universe amd64 libspatialindex-c4v5 amd64 1.8.5-5 [51.7 kB]\n",
            "Get:3 http://archive.ubuntu.com/ubuntu bionic/universe amd64 libspatialindex-dev amd64 1.8.5-5 [285 kB]\n",
            "Fetched 555 kB in 1s (436 kB/s)\n",
            "Selecting previously unselected package libspatialindex4v5:amd64.\n",
            "(Reading database ... 135004 files and directories currently installed.)\n",
            "Preparing to unpack .../libspatialindex4v5_1.8.5-5_amd64.deb ...\n",
            "Unpacking libspatialindex4v5:amd64 (1.8.5-5) ...\n",
            "Selecting previously unselected package libspatialindex-c4v5:amd64.\n",
            "Preparing to unpack .../libspatialindex-c4v5_1.8.5-5_amd64.deb ...\n",
            "Unpacking libspatialindex-c4v5:amd64 (1.8.5-5) ...\n",
            "Selecting previously unselected package libspatialindex-dev:amd64.\n",
            "Preparing to unpack .../libspatialindex-dev_1.8.5-5_amd64.deb ...\n",
            "Unpacking libspatialindex-dev:amd64 (1.8.5-5) ...\n",
            "Setting up libspatialindex4v5:amd64 (1.8.5-5) ...\n",
            "Setting up libspatialindex-c4v5:amd64 (1.8.5-5) ...\n",
            "Setting up libspatialindex-dev:amd64 (1.8.5-5) ...\n",
            "Processing triggers for libc-bin (2.27-3ubuntu1) ...\n",
            "Collecting CensusData\n",
            "\u001b[?25l  Downloading https://files.pythonhosted.org/packages/7f/9d/e3be1b69dd0d300e08c46e902673cdbd28b4a5cdd028480d946e972bae9e/CensusData-1.6.tar.gz (23.2MB)\n",
            "\u001b[K     |████████████████████████████████| 23.2MB 1.3MB/s \n",
            "\u001b[?25hCollecting geopandas\n",
            "\u001b[?25l  Downloading https://files.pythonhosted.org/packages/5b/0c/e6c99e561b03482220f00443f610ccf4dce9b50f4b1093d735f93c6fc8c6/geopandas-0.6.2-py2.py3-none-any.whl (919kB)\n",
            "\u001b[K     |████████████████████████████████| 921kB 44.9MB/s \n",
            "\u001b[?25hCollecting earthpy\n",
            "\u001b[?25l  Downloading https://files.pythonhosted.org/packages/5b/26/105c13b51b383547d3f2d16aa562fc857dc2b1af4b93ddc52dd99f02ec13/earthpy-0.8.0.tar.gz (1.4MB)\n",
            "\u001b[K     |████████████████████████████████| 1.4MB 47.7MB/s \n",
            "\u001b[?25hRequirement already satisfied: pandas in /usr/local/lib/python3.6/dist-packages (from CensusData) (0.25.3)\n",
            "Requirement already satisfied: requests in /usr/local/lib/python3.6/dist-packages (from CensusData) (2.21.0)\n",
            "Requirement already satisfied: shapely in /usr/local/lib/python3.6/dist-packages (from geopandas) (1.6.4.post2)\n",
            "Collecting pyproj\n",
            "\u001b[?25l  Downloading https://files.pythonhosted.org/packages/d6/70/eedc98cd52b86de24a1589c762612a98bea26cde649ffdd60c1db396cce8/pyproj-2.4.2.post1-cp36-cp36m-manylinux2010_x86_64.whl (10.1MB)\n",
            "\u001b[K     |████████████████████████████████| 10.1MB 43.6MB/s \n",
            "\u001b[?25hCollecting fiona\n",
            "\u001b[?25l  Downloading https://files.pythonhosted.org/packages/50/f7/9899f8a9a2e38601472fe1079ce5088f58833221c8b8507d8b5eafd5404a/Fiona-1.8.13-cp36-cp36m-manylinux1_x86_64.whl (11.8MB)\n",
            "\u001b[K     |████████████████████████████████| 11.8MB 21.8MB/s \n",
            "\u001b[?25hRequirement already satisfied: matplotlib>=2.0.0 in /usr/local/lib/python3.6/dist-packages (from earthpy) (3.1.2)\n",
            "Requirement already satisfied: numpy>=1.14.0 in /usr/local/lib/python3.6/dist-packages (from earthpy) (1.17.5)\n",
            "Collecting rasterio\n",
            "\u001b[?25l  Downloading https://files.pythonhosted.org/packages/be/e5/7052a3eef72af7e883a280d8dff64f4ea44cb92ec25ffb1d00ce27bc1a12/rasterio-1.1.2-cp36-cp36m-manylinux1_x86_64.whl (18.0MB)\n",
            "\u001b[K     |████████████████████████████████| 18.0MB 241kB/s \n",
            "\u001b[?25hCollecting Rtree>=0.8\n",
            "\u001b[?25l  Downloading https://files.pythonhosted.org/packages/11/1d/42d6904a436076df813d1df632575529991005b33aa82f169f01750e39e4/Rtree-0.9.3.tar.gz (520kB)\n",
            "\u001b[K     |████████████████████████████████| 522kB 57.0MB/s \n",
            "\u001b[?25hRequirement already satisfied: scikit-image in /usr/local/lib/python3.6/dist-packages (from earthpy) (0.16.2)\n",
            "Requirement already satisfied: python-dateutil>=2.6.1 in /usr/local/lib/python3.6/dist-packages (from pandas->CensusData) (2.6.1)\n",
            "Requirement already satisfied: pytz>=2017.2 in /usr/local/lib/python3.6/dist-packages (from pandas->CensusData) (2018.9)\n",
            "Requirement already satisfied: certifi>=2017.4.17 in /usr/local/lib/python3.6/dist-packages (from requests->CensusData) (2019.11.28)\n",
            "Requirement already satisfied: chardet<3.1.0,>=3.0.2 in /usr/local/lib/python3.6/dist-packages (from requests->CensusData) (3.0.4)\n",
            "Requirement already satisfied: urllib3<1.25,>=1.21.1 in /usr/local/lib/python3.6/dist-packages (from requests->CensusData) (1.24.3)\n",
            "Requirement already satisfied: idna<2.9,>=2.5 in /usr/local/lib/python3.6/dist-packages (from requests->CensusData) (2.8)\n",
            "Collecting click-plugins>=1.0\n",
            "  Downloading https://files.pythonhosted.org/packages/e9/da/824b92d9942f4e472702488857914bdd50f73021efea15b4cad9aca8ecef/click_plugins-1.1.1-py2.py3-none-any.whl\n",
            "Collecting munch\n",
            "  Downloading https://files.pythonhosted.org/packages/cc/ab/85d8da5c9a45e072301beb37ad7f833cd344e04c817d97e0cc75681d248f/munch-2.5.0-py2.py3-none-any.whl\n",
            "Requirement already satisfied: attrs>=17 in /usr/local/lib/python3.6/dist-packages (from fiona->geopandas) (19.3.0)\n",
            "Requirement already satisfied: click<8,>=4.0 in /usr/local/lib/python3.6/dist-packages (from fiona->geopandas) (7.0)\n",
            "Requirement already satisfied: six>=1.7 in /usr/local/lib/python3.6/dist-packages (from fiona->geopandas) (1.12.0)\n",
            "Collecting cligj>=0.5\n",
            "  Downloading https://files.pythonhosted.org/packages/e4/be/30a58b4b0733850280d01f8bd132591b4668ed5c7046761098d665ac2174/cligj-0.5.0-py3-none-any.whl\n",
            "Requirement already satisfied: pyparsing!=2.0.4,!=2.1.2,!=2.1.6,>=2.0.1 in /usr/local/lib/python3.6/dist-packages (from matplotlib>=2.0.0->earthpy) (2.4.6)\n",
            "Requirement already satisfied: kiwisolver>=1.0.1 in /usr/local/lib/python3.6/dist-packages (from matplotlib>=2.0.0->earthpy) (1.1.0)\n",
            "Requirement already satisfied: cycler>=0.10 in /usr/local/lib/python3.6/dist-packages (from matplotlib>=2.0.0->earthpy) (0.10.0)\n",
            "Collecting affine\n",
            "  Downloading https://files.pythonhosted.org/packages/ac/a6/1a39a1ede71210e3ddaf623982b06ecfc5c5c03741ae659073159184cd3e/affine-2.3.0-py2.py3-none-any.whl\n",
            "Collecting snuggs>=1.4.1\n",
            "  Downloading https://files.pythonhosted.org/packages/cc/0e/d27d6e806d6c0d1a2cfdc5d1f088e42339a0a54a09c3343f7f81ec8947ea/snuggs-1.4.7-py3-none-any.whl\n",
            "Requirement already satisfied: setuptools in /usr/local/lib/python3.6/dist-packages (from Rtree>=0.8->earthpy) (42.0.2)\n",
            "Requirement already satisfied: networkx>=2.0 in /usr/local/lib/python3.6/dist-packages (from scikit-image->earthpy) (2.4)\n",
            "Requirement already satisfied: imageio>=2.3.0 in /usr/local/lib/python3.6/dist-packages (from scikit-image->earthpy) (2.4.1)\n",
            "Requirement already satisfied: PyWavelets>=0.4.0 in /usr/local/lib/python3.6/dist-packages (from scikit-image->earthpy) (1.1.1)\n",
            "Requirement already satisfied: pillow>=4.3.0 in /usr/local/lib/python3.6/dist-packages (from scikit-image->earthpy) (6.2.2)\n",
            "Requirement already satisfied: scipy>=0.19.0 in /usr/local/lib/python3.6/dist-packages (from scikit-image->earthpy) (1.4.1)\n",
            "Requirement already satisfied: decorator>=4.3.0 in /usr/local/lib/python3.6/dist-packages (from networkx>=2.0->scikit-image->earthpy) (4.4.1)\n",
            "Building wheels for collected packages: CensusData, earthpy, Rtree\n",
            "  Building wheel for CensusData (setup.py) ... \u001b[?25l\u001b[?25hdone\n",
            "  Created wheel for CensusData: filename=CensusData-1.6-cp36-none-any.whl size=24706084 sha256=f308f0f3c55ee4bde4e2b670a2606671349a2562a07f60012010043d899eaa56\n",
            "  Stored in directory: /root/.cache/pip/wheels/3f/59/f5/606d55c2e988301e2ba860bbfd7fd9a2d993edbb6d8683f639\n",
            "  Building wheel for earthpy (setup.py) ... \u001b[?25l\u001b[?25hdone\n",
            "  Created wheel for earthpy: filename=earthpy-0.8.0-cp36-none-any.whl size=1366214 sha256=551c2f292c7e3d6aade3c6d264091378147782a09268e4c7d7fde80538cb7d11\n",
            "  Stored in directory: /root/.cache/pip/wheels/e0/c3/f3/ff425d9e97199881c466dce4d5fd09e2555349be2f41524a75\n",
            "  Building wheel for Rtree (setup.py) ... \u001b[?25l\u001b[?25hdone\n",
            "  Created wheel for Rtree: filename=Rtree-0.9.3-cp36-none-any.whl size=21266 sha256=512b14f3849e4442f34aa03eb5b1eb09841fed419e352fddd98e51f1dc8611f5\n",
            "  Stored in directory: /root/.cache/pip/wheels/0b/f6/58/2d819b2abdc280c3f70db0b0ce86a712839267957db7abad85\n",
            "Successfully built CensusData earthpy Rtree\n",
            "Installing collected packages: CensusData, pyproj, click-plugins, munch, cligj, fiona, geopandas, affine, snuggs, rasterio, Rtree, earthpy\n",
            "Successfully installed CensusData-1.6 Rtree-0.9.3 affine-2.3.0 click-plugins-1.1.1 cligj-0.5.0 earthpy-0.8.0 fiona-1.8.13 geopandas-0.6.2 munch-2.5.0 pyproj-2.4.2.post1 rasterio-1.1.2 snuggs-1.4.7\n"
          ],
          "name": "stdout"
        }
      ]
    },
    {
      "cell_type": "markdown",
      "metadata": {
        "id": "mm0H1eA27JO6",
        "colab_type": "text"
      },
      "source": [
        "For working with Census data, we're doing to use the CensusData package. The CensusData package lets us access ACS data for a number of years, back until 2005 for 5-year estimates. Here is the [documentation](https://jtleider.github.io/censusdata/).\n",
        "\n",
        "Here's an [example notebook](https://github.com/jtleider/censusdata/blob/master/docs/notebooks/example1.ipynb) which lets us see tract-level estimates for unemployment and high school dropout rates in Cook County, Illinois.\n"
      ]
    },
    {
      "cell_type": "code",
      "metadata": {
        "id": "PzUVsw8W3FD6",
        "colab_type": "code",
        "colab": {}
      },
      "source": [
        "import censusdata  \n",
        "import pandas as pd\n",
        "import numpy as np "
      ],
      "execution_count": 0,
      "outputs": []
    },
    {
      "cell_type": "markdown",
      "metadata": {
        "id": "6n-ltJCL6Qw-",
        "colab_type": "text"
      },
      "source": [
        "You can get a link to all the Census geographies [here](https://jtleider.github.io/censusdata/geographies.html). Census geographies are defined on a hierarchical level. Since we're interested in both the Austin-Red Rock MSA, we can first get all the MSAs, as well as all the tracts in Texas."
      ]
    },
    {
      "cell_type": "code",
      "metadata": {
        "id": "6WpzYGIo4ip-",
        "colab_type": "code",
        "colab": {}
      },
      "source": [
        "## Get all the MSAs in a dictionary object\n",
        "msas = censusdata.geographies(censusdata.censusgeo([('metropolitan statistical area/micropolitan statistical area', '*')]), 'acs5', 2016)"
      ],
      "execution_count": 0,
      "outputs": []
    },
    {
      "cell_type": "code",
      "metadata": {
        "id": "rTvwCNlK38_h",
        "colab_type": "code",
        "colab": {}
      },
      "source": [
        "## Get all the census tracts in Texas\n",
        "tx_tracts = censusdata.geographies(censusdata.censusgeo([('state', '48'), ('tract', '*')]), 'acs5', 2016)"
      ],
      "execution_count": 0,
      "outputs": []
    },
    {
      "cell_type": "code",
      "metadata": {
        "id": "MecYvzz050eB",
        "colab_type": "code",
        "outputId": "56ef2d23-7786-493c-f340-355aff140185",
        "colab": {
          "base_uri": "https://localhost:8080/",
          "height": 187
        }
      },
      "source": [
        "## Example of the available tract\n",
        "list(tx_tracts.keys())[0:10]"
      ],
      "execution_count": 0,
      "outputs": [
        {
          "output_type": "execute_result",
          "data": {
            "text/plain": [
              "['Census Tract 234.02, Bell County, Texas',\n",
              " 'Census Tract 234.03, Bell County, Texas',\n",
              " 'Census Tract 234.04, Bell County, Texas',\n",
              " 'Census Tract 235, Bell County, Texas',\n",
              " 'Census Tract 9800.01, Bell County, Texas',\n",
              " 'Census Tract 9800.02, Bell County, Texas',\n",
              " 'Census Tract 9800.03, Bell County, Texas',\n",
              " 'Census Tract 1101, Bexar County, Texas',\n",
              " 'Census Tract 1103, Bexar County, Texas',\n",
              " 'Census Tract 1105, Bexar County, Texas']"
            ]
          },
          "metadata": {
            "tags": []
          },
          "execution_count": 128
        }
      ]
    },
    {
      "cell_type": "code",
      "metadata": {
        "id": "P0kZDQBm5BhM",
        "colab_type": "code",
        "outputId": "2310ad36-b55f-4830-cf65-664078be3c92",
        "colab": {
          "base_uri": "https://localhost:8080/",
          "height": 34
        }
      },
      "source": [
        "## Getting the Austin-Round Rock MSA by the name\n",
        "msas['Austin-Round Rock, TX Metro Area']"
      ],
      "execution_count": 0,
      "outputs": [
        {
          "output_type": "execute_result",
          "data": {
            "text/plain": [
              "censusgeo((('metropolitan statistical area/micropolitan statistical area', '12420'),))"
            ]
          },
          "metadata": {
            "tags": []
          },
          "execution_count": 129
        }
      ]
    },
    {
      "cell_type": "code",
      "metadata": {
        "id": "Smq9NJ3TsTVV",
        "colab_type": "code",
        "colab": {}
      },
      "source": [
        "## Get all the counties tracts within the MSA\n",
        "msas_counties = censusdata.geographies(censusdata.censusgeo([('state', '48'), ('metropolitan statistical area/micropolitan statistical area', '12420'), ('county', '*')]), 'acs5', 2016)\n"
      ],
      "execution_count": 0,
      "outputs": []
    },
    {
      "cell_type": "code",
      "metadata": {
        "id": "ouYe8tZuw4TA",
        "colab_type": "code",
        "outputId": "517437ca-9b82-4ad7-c48c-696d127f2feb",
        "colab": {
          "base_uri": "https://localhost:8080/",
          "height": 122
        }
      },
      "source": [
        "msas_counties\n",
        "\n",
        "##list(msas_counties.keys())[0:10]"
      ],
      "execution_count": 0,
      "outputs": [
        {
          "output_type": "execute_result",
          "data": {
            "text/plain": [
              "{'Bastrop County; Austin-Round Rock, TX Metro Area; Texas': censusgeo((('state', '48'), ('metropolitan statistical area/micropolitan statistical area', '12420'), ('county', '021'))),\n",
              " 'Caldwell County; Austin-Round Rock, TX Metro Area; Texas': censusgeo((('state', '48'), ('metropolitan statistical area/micropolitan statistical area', '12420'), ('county', '055'))),\n",
              " 'Hays County; Austin-Round Rock, TX Metro Area; Texas': censusgeo((('state', '48'), ('metropolitan statistical area/micropolitan statistical area', '12420'), ('county', '209'))),\n",
              " 'Travis County; Austin-Round Rock, TX Metro Area; Texas': censusgeo((('state', '48'), ('metropolitan statistical area/micropolitan statistical area', '12420'), ('county', '453'))),\n",
              " 'Williamson County; Austin-Round Rock, TX Metro Area; Texas': censusgeo((('state', '48'), ('metropolitan statistical area/micropolitan statistical area', '12420'), ('county', '491')))}"
            ]
          },
          "metadata": {
            "tags": []
          },
          "execution_count": 131
        }
      ]
    },
    {
      "cell_type": "code",
      "metadata": {
        "id": "ium9spdP0N96",
        "colab_type": "code",
        "outputId": "840ec6f9-06e4-4f2f-b697-09949ec4f199",
        "colab": {
          "base_uri": "https://localhost:8080/",
          "height": 1000
        }
      },
      "source": [
        "## Get unique identifier\n",
        "\n",
        "county_id = censusdata.geographies(censusdata.censusgeo([('state', '48'), ('county', '*')]), 'acs5', 2016)\n",
        "county_id ##dictionary with name as key and census geo object\n",
        "##list(county_id.keys())[0:10]"
      ],
      "execution_count": 0,
      "outputs": [
        {
          "output_type": "execute_result",
          "data": {
            "text/plain": [
              "{'Anderson County, Texas': censusgeo((('state', '48'), ('county', '001'))),\n",
              " 'Andrews County, Texas': censusgeo((('state', '48'), ('county', '003'))),\n",
              " 'Angelina County, Texas': censusgeo((('state', '48'), ('county', '005'))),\n",
              " 'Aransas County, Texas': censusgeo((('state', '48'), ('county', '007'))),\n",
              " 'Archer County, Texas': censusgeo((('state', '48'), ('county', '009'))),\n",
              " 'Armstrong County, Texas': censusgeo((('state', '48'), ('county', '011'))),\n",
              " 'Atascosa County, Texas': censusgeo((('state', '48'), ('county', '013'))),\n",
              " 'Austin County, Texas': censusgeo((('state', '48'), ('county', '015'))),\n",
              " 'Bailey County, Texas': censusgeo((('state', '48'), ('county', '017'))),\n",
              " 'Bandera County, Texas': censusgeo((('state', '48'), ('county', '019'))),\n",
              " 'Bastrop County, Texas': censusgeo((('state', '48'), ('county', '021'))),\n",
              " 'Baylor County, Texas': censusgeo((('state', '48'), ('county', '023'))),\n",
              " 'Bee County, Texas': censusgeo((('state', '48'), ('county', '025'))),\n",
              " 'Bell County, Texas': censusgeo((('state', '48'), ('county', '027'))),\n",
              " 'Bexar County, Texas': censusgeo((('state', '48'), ('county', '029'))),\n",
              " 'Blanco County, Texas': censusgeo((('state', '48'), ('county', '031'))),\n",
              " 'Borden County, Texas': censusgeo((('state', '48'), ('county', '033'))),\n",
              " 'Bosque County, Texas': censusgeo((('state', '48'), ('county', '035'))),\n",
              " 'Bowie County, Texas': censusgeo((('state', '48'), ('county', '037'))),\n",
              " 'Brazoria County, Texas': censusgeo((('state', '48'), ('county', '039'))),\n",
              " 'Brazos County, Texas': censusgeo((('state', '48'), ('county', '041'))),\n",
              " 'Brewster County, Texas': censusgeo((('state', '48'), ('county', '043'))),\n",
              " 'Briscoe County, Texas': censusgeo((('state', '48'), ('county', '045'))),\n",
              " 'Brooks County, Texas': censusgeo((('state', '48'), ('county', '047'))),\n",
              " 'Brown County, Texas': censusgeo((('state', '48'), ('county', '049'))),\n",
              " 'Burleson County, Texas': censusgeo((('state', '48'), ('county', '051'))),\n",
              " 'Burnet County, Texas': censusgeo((('state', '48'), ('county', '053'))),\n",
              " 'Caldwell County, Texas': censusgeo((('state', '48'), ('county', '055'))),\n",
              " 'Calhoun County, Texas': censusgeo((('state', '48'), ('county', '057'))),\n",
              " 'Callahan County, Texas': censusgeo((('state', '48'), ('county', '059'))),\n",
              " 'Cameron County, Texas': censusgeo((('state', '48'), ('county', '061'))),\n",
              " 'Camp County, Texas': censusgeo((('state', '48'), ('county', '063'))),\n",
              " 'Carson County, Texas': censusgeo((('state', '48'), ('county', '065'))),\n",
              " 'Cass County, Texas': censusgeo((('state', '48'), ('county', '067'))),\n",
              " 'Castro County, Texas': censusgeo((('state', '48'), ('county', '069'))),\n",
              " 'Chambers County, Texas': censusgeo((('state', '48'), ('county', '071'))),\n",
              " 'Cherokee County, Texas': censusgeo((('state', '48'), ('county', '073'))),\n",
              " 'Childress County, Texas': censusgeo((('state', '48'), ('county', '075'))),\n",
              " 'Clay County, Texas': censusgeo((('state', '48'), ('county', '077'))),\n",
              " 'Cochran County, Texas': censusgeo((('state', '48'), ('county', '079'))),\n",
              " 'Coke County, Texas': censusgeo((('state', '48'), ('county', '081'))),\n",
              " 'Coleman County, Texas': censusgeo((('state', '48'), ('county', '083'))),\n",
              " 'Collin County, Texas': censusgeo((('state', '48'), ('county', '085'))),\n",
              " 'Collingsworth County, Texas': censusgeo((('state', '48'), ('county', '087'))),\n",
              " 'Colorado County, Texas': censusgeo((('state', '48'), ('county', '089'))),\n",
              " 'Comal County, Texas': censusgeo((('state', '48'), ('county', '091'))),\n",
              " 'Comanche County, Texas': censusgeo((('state', '48'), ('county', '093'))),\n",
              " 'Concho County, Texas': censusgeo((('state', '48'), ('county', '095'))),\n",
              " 'Cooke County, Texas': censusgeo((('state', '48'), ('county', '097'))),\n",
              " 'Coryell County, Texas': censusgeo((('state', '48'), ('county', '099'))),\n",
              " 'Cottle County, Texas': censusgeo((('state', '48'), ('county', '101'))),\n",
              " 'Crane County, Texas': censusgeo((('state', '48'), ('county', '103'))),\n",
              " 'Crockett County, Texas': censusgeo((('state', '48'), ('county', '105'))),\n",
              " 'Crosby County, Texas': censusgeo((('state', '48'), ('county', '107'))),\n",
              " 'Culberson County, Texas': censusgeo((('state', '48'), ('county', '109'))),\n",
              " 'Dallam County, Texas': censusgeo((('state', '48'), ('county', '111'))),\n",
              " 'Dallas County, Texas': censusgeo((('state', '48'), ('county', '113'))),\n",
              " 'Dawson County, Texas': censusgeo((('state', '48'), ('county', '115'))),\n",
              " 'DeWitt County, Texas': censusgeo((('state', '48'), ('county', '123'))),\n",
              " 'Deaf Smith County, Texas': censusgeo((('state', '48'), ('county', '117'))),\n",
              " 'Delta County, Texas': censusgeo((('state', '48'), ('county', '119'))),\n",
              " 'Denton County, Texas': censusgeo((('state', '48'), ('county', '121'))),\n",
              " 'Dickens County, Texas': censusgeo((('state', '48'), ('county', '125'))),\n",
              " 'Dimmit County, Texas': censusgeo((('state', '48'), ('county', '127'))),\n",
              " 'Donley County, Texas': censusgeo((('state', '48'), ('county', '129'))),\n",
              " 'Duval County, Texas': censusgeo((('state', '48'), ('county', '131'))),\n",
              " 'Eastland County, Texas': censusgeo((('state', '48'), ('county', '133'))),\n",
              " 'Ector County, Texas': censusgeo((('state', '48'), ('county', '135'))),\n",
              " 'Edwards County, Texas': censusgeo((('state', '48'), ('county', '137'))),\n",
              " 'El Paso County, Texas': censusgeo((('state', '48'), ('county', '141'))),\n",
              " 'Ellis County, Texas': censusgeo((('state', '48'), ('county', '139'))),\n",
              " 'Erath County, Texas': censusgeo((('state', '48'), ('county', '143'))),\n",
              " 'Falls County, Texas': censusgeo((('state', '48'), ('county', '145'))),\n",
              " 'Fannin County, Texas': censusgeo((('state', '48'), ('county', '147'))),\n",
              " 'Fayette County, Texas': censusgeo((('state', '48'), ('county', '149'))),\n",
              " 'Fisher County, Texas': censusgeo((('state', '48'), ('county', '151'))),\n",
              " 'Floyd County, Texas': censusgeo((('state', '48'), ('county', '153'))),\n",
              " 'Foard County, Texas': censusgeo((('state', '48'), ('county', '155'))),\n",
              " 'Fort Bend County, Texas': censusgeo((('state', '48'), ('county', '157'))),\n",
              " 'Franklin County, Texas': censusgeo((('state', '48'), ('county', '159'))),\n",
              " 'Freestone County, Texas': censusgeo((('state', '48'), ('county', '161'))),\n",
              " 'Frio County, Texas': censusgeo((('state', '48'), ('county', '163'))),\n",
              " 'Gaines County, Texas': censusgeo((('state', '48'), ('county', '165'))),\n",
              " 'Galveston County, Texas': censusgeo((('state', '48'), ('county', '167'))),\n",
              " 'Garza County, Texas': censusgeo((('state', '48'), ('county', '169'))),\n",
              " 'Gillespie County, Texas': censusgeo((('state', '48'), ('county', '171'))),\n",
              " 'Glasscock County, Texas': censusgeo((('state', '48'), ('county', '173'))),\n",
              " 'Goliad County, Texas': censusgeo((('state', '48'), ('county', '175'))),\n",
              " 'Gonzales County, Texas': censusgeo((('state', '48'), ('county', '177'))),\n",
              " 'Gray County, Texas': censusgeo((('state', '48'), ('county', '179'))),\n",
              " 'Grayson County, Texas': censusgeo((('state', '48'), ('county', '181'))),\n",
              " 'Gregg County, Texas': censusgeo((('state', '48'), ('county', '183'))),\n",
              " 'Grimes County, Texas': censusgeo((('state', '48'), ('county', '185'))),\n",
              " 'Guadalupe County, Texas': censusgeo((('state', '48'), ('county', '187'))),\n",
              " 'Hale County, Texas': censusgeo((('state', '48'), ('county', '189'))),\n",
              " 'Hall County, Texas': censusgeo((('state', '48'), ('county', '191'))),\n",
              " 'Hamilton County, Texas': censusgeo((('state', '48'), ('county', '193'))),\n",
              " 'Hansford County, Texas': censusgeo((('state', '48'), ('county', '195'))),\n",
              " 'Hardeman County, Texas': censusgeo((('state', '48'), ('county', '197'))),\n",
              " 'Hardin County, Texas': censusgeo((('state', '48'), ('county', '199'))),\n",
              " 'Harris County, Texas': censusgeo((('state', '48'), ('county', '201'))),\n",
              " 'Harrison County, Texas': censusgeo((('state', '48'), ('county', '203'))),\n",
              " 'Hartley County, Texas': censusgeo((('state', '48'), ('county', '205'))),\n",
              " 'Haskell County, Texas': censusgeo((('state', '48'), ('county', '207'))),\n",
              " 'Hays County, Texas': censusgeo((('state', '48'), ('county', '209'))),\n",
              " 'Hemphill County, Texas': censusgeo((('state', '48'), ('county', '211'))),\n",
              " 'Henderson County, Texas': censusgeo((('state', '48'), ('county', '213'))),\n",
              " 'Hidalgo County, Texas': censusgeo((('state', '48'), ('county', '215'))),\n",
              " 'Hill County, Texas': censusgeo((('state', '48'), ('county', '217'))),\n",
              " 'Hockley County, Texas': censusgeo((('state', '48'), ('county', '219'))),\n",
              " 'Hood County, Texas': censusgeo((('state', '48'), ('county', '221'))),\n",
              " 'Hopkins County, Texas': censusgeo((('state', '48'), ('county', '223'))),\n",
              " 'Houston County, Texas': censusgeo((('state', '48'), ('county', '225'))),\n",
              " 'Howard County, Texas': censusgeo((('state', '48'), ('county', '227'))),\n",
              " 'Hudspeth County, Texas': censusgeo((('state', '48'), ('county', '229'))),\n",
              " 'Hunt County, Texas': censusgeo((('state', '48'), ('county', '231'))),\n",
              " 'Hutchinson County, Texas': censusgeo((('state', '48'), ('county', '233'))),\n",
              " 'Irion County, Texas': censusgeo((('state', '48'), ('county', '235'))),\n",
              " 'Jack County, Texas': censusgeo((('state', '48'), ('county', '237'))),\n",
              " 'Jackson County, Texas': censusgeo((('state', '48'), ('county', '239'))),\n",
              " 'Jasper County, Texas': censusgeo((('state', '48'), ('county', '241'))),\n",
              " 'Jeff Davis County, Texas': censusgeo((('state', '48'), ('county', '243'))),\n",
              " 'Jefferson County, Texas': censusgeo((('state', '48'), ('county', '245'))),\n",
              " 'Jim Hogg County, Texas': censusgeo((('state', '48'), ('county', '247'))),\n",
              " 'Jim Wells County, Texas': censusgeo((('state', '48'), ('county', '249'))),\n",
              " 'Johnson County, Texas': censusgeo((('state', '48'), ('county', '251'))),\n",
              " 'Jones County, Texas': censusgeo((('state', '48'), ('county', '253'))),\n",
              " 'Karnes County, Texas': censusgeo((('state', '48'), ('county', '255'))),\n",
              " 'Kaufman County, Texas': censusgeo((('state', '48'), ('county', '257'))),\n",
              " 'Kendall County, Texas': censusgeo((('state', '48'), ('county', '259'))),\n",
              " 'Kenedy County, Texas': censusgeo((('state', '48'), ('county', '261'))),\n",
              " 'Kent County, Texas': censusgeo((('state', '48'), ('county', '263'))),\n",
              " 'Kerr County, Texas': censusgeo((('state', '48'), ('county', '265'))),\n",
              " 'Kimble County, Texas': censusgeo((('state', '48'), ('county', '267'))),\n",
              " 'King County, Texas': censusgeo((('state', '48'), ('county', '269'))),\n",
              " 'Kinney County, Texas': censusgeo((('state', '48'), ('county', '271'))),\n",
              " 'Kleberg County, Texas': censusgeo((('state', '48'), ('county', '273'))),\n",
              " 'Knox County, Texas': censusgeo((('state', '48'), ('county', '275'))),\n",
              " 'La Salle County, Texas': censusgeo((('state', '48'), ('county', '283'))),\n",
              " 'Lamar County, Texas': censusgeo((('state', '48'), ('county', '277'))),\n",
              " 'Lamb County, Texas': censusgeo((('state', '48'), ('county', '279'))),\n",
              " 'Lampasas County, Texas': censusgeo((('state', '48'), ('county', '281'))),\n",
              " 'Lavaca County, Texas': censusgeo((('state', '48'), ('county', '285'))),\n",
              " 'Lee County, Texas': censusgeo((('state', '48'), ('county', '287'))),\n",
              " 'Leon County, Texas': censusgeo((('state', '48'), ('county', '289'))),\n",
              " 'Liberty County, Texas': censusgeo((('state', '48'), ('county', '291'))),\n",
              " 'Limestone County, Texas': censusgeo((('state', '48'), ('county', '293'))),\n",
              " 'Lipscomb County, Texas': censusgeo((('state', '48'), ('county', '295'))),\n",
              " 'Live Oak County, Texas': censusgeo((('state', '48'), ('county', '297'))),\n",
              " 'Llano County, Texas': censusgeo((('state', '48'), ('county', '299'))),\n",
              " 'Loving County, Texas': censusgeo((('state', '48'), ('county', '301'))),\n",
              " 'Lubbock County, Texas': censusgeo((('state', '48'), ('county', '303'))),\n",
              " 'Lynn County, Texas': censusgeo((('state', '48'), ('county', '305'))),\n",
              " 'Madison County, Texas': censusgeo((('state', '48'), ('county', '313'))),\n",
              " 'Marion County, Texas': censusgeo((('state', '48'), ('county', '315'))),\n",
              " 'Martin County, Texas': censusgeo((('state', '48'), ('county', '317'))),\n",
              " 'Mason County, Texas': censusgeo((('state', '48'), ('county', '319'))),\n",
              " 'Matagorda County, Texas': censusgeo((('state', '48'), ('county', '321'))),\n",
              " 'Maverick County, Texas': censusgeo((('state', '48'), ('county', '323'))),\n",
              " 'McCulloch County, Texas': censusgeo((('state', '48'), ('county', '307'))),\n",
              " 'McLennan County, Texas': censusgeo((('state', '48'), ('county', '309'))),\n",
              " 'McMullen County, Texas': censusgeo((('state', '48'), ('county', '311'))),\n",
              " 'Medina County, Texas': censusgeo((('state', '48'), ('county', '325'))),\n",
              " 'Menard County, Texas': censusgeo((('state', '48'), ('county', '327'))),\n",
              " 'Midland County, Texas': censusgeo((('state', '48'), ('county', '329'))),\n",
              " 'Milam County, Texas': censusgeo((('state', '48'), ('county', '331'))),\n",
              " 'Mills County, Texas': censusgeo((('state', '48'), ('county', '333'))),\n",
              " 'Mitchell County, Texas': censusgeo((('state', '48'), ('county', '335'))),\n",
              " 'Montague County, Texas': censusgeo((('state', '48'), ('county', '337'))),\n",
              " 'Montgomery County, Texas': censusgeo((('state', '48'), ('county', '339'))),\n",
              " 'Moore County, Texas': censusgeo((('state', '48'), ('county', '341'))),\n",
              " 'Morris County, Texas': censusgeo((('state', '48'), ('county', '343'))),\n",
              " 'Motley County, Texas': censusgeo((('state', '48'), ('county', '345'))),\n",
              " 'Nacogdoches County, Texas': censusgeo((('state', '48'), ('county', '347'))),\n",
              " 'Navarro County, Texas': censusgeo((('state', '48'), ('county', '349'))),\n",
              " 'Newton County, Texas': censusgeo((('state', '48'), ('county', '351'))),\n",
              " 'Nolan County, Texas': censusgeo((('state', '48'), ('county', '353'))),\n",
              " 'Nueces County, Texas': censusgeo((('state', '48'), ('county', '355'))),\n",
              " 'Ochiltree County, Texas': censusgeo((('state', '48'), ('county', '357'))),\n",
              " 'Oldham County, Texas': censusgeo((('state', '48'), ('county', '359'))),\n",
              " 'Orange County, Texas': censusgeo((('state', '48'), ('county', '361'))),\n",
              " 'Palo Pinto County, Texas': censusgeo((('state', '48'), ('county', '363'))),\n",
              " 'Panola County, Texas': censusgeo((('state', '48'), ('county', '365'))),\n",
              " 'Parker County, Texas': censusgeo((('state', '48'), ('county', '367'))),\n",
              " 'Parmer County, Texas': censusgeo((('state', '48'), ('county', '369'))),\n",
              " 'Pecos County, Texas': censusgeo((('state', '48'), ('county', '371'))),\n",
              " 'Polk County, Texas': censusgeo((('state', '48'), ('county', '373'))),\n",
              " 'Potter County, Texas': censusgeo((('state', '48'), ('county', '375'))),\n",
              " 'Presidio County, Texas': censusgeo((('state', '48'), ('county', '377'))),\n",
              " 'Rains County, Texas': censusgeo((('state', '48'), ('county', '379'))),\n",
              " 'Randall County, Texas': censusgeo((('state', '48'), ('county', '381'))),\n",
              " 'Reagan County, Texas': censusgeo((('state', '48'), ('county', '383'))),\n",
              " 'Real County, Texas': censusgeo((('state', '48'), ('county', '385'))),\n",
              " 'Red River County, Texas': censusgeo((('state', '48'), ('county', '387'))),\n",
              " 'Reeves County, Texas': censusgeo((('state', '48'), ('county', '389'))),\n",
              " 'Refugio County, Texas': censusgeo((('state', '48'), ('county', '391'))),\n",
              " 'Roberts County, Texas': censusgeo((('state', '48'), ('county', '393'))),\n",
              " 'Robertson County, Texas': censusgeo((('state', '48'), ('county', '395'))),\n",
              " 'Rockwall County, Texas': censusgeo((('state', '48'), ('county', '397'))),\n",
              " 'Runnels County, Texas': censusgeo((('state', '48'), ('county', '399'))),\n",
              " 'Rusk County, Texas': censusgeo((('state', '48'), ('county', '401'))),\n",
              " 'Sabine County, Texas': censusgeo((('state', '48'), ('county', '403'))),\n",
              " 'San Augustine County, Texas': censusgeo((('state', '48'), ('county', '405'))),\n",
              " 'San Jacinto County, Texas': censusgeo((('state', '48'), ('county', '407'))),\n",
              " 'San Patricio County, Texas': censusgeo((('state', '48'), ('county', '409'))),\n",
              " 'San Saba County, Texas': censusgeo((('state', '48'), ('county', '411'))),\n",
              " 'Schleicher County, Texas': censusgeo((('state', '48'), ('county', '413'))),\n",
              " 'Scurry County, Texas': censusgeo((('state', '48'), ('county', '415'))),\n",
              " 'Shackelford County, Texas': censusgeo((('state', '48'), ('county', '417'))),\n",
              " 'Shelby County, Texas': censusgeo((('state', '48'), ('county', '419'))),\n",
              " 'Sherman County, Texas': censusgeo((('state', '48'), ('county', '421'))),\n",
              " 'Smith County, Texas': censusgeo((('state', '48'), ('county', '423'))),\n",
              " 'Somervell County, Texas': censusgeo((('state', '48'), ('county', '425'))),\n",
              " 'Starr County, Texas': censusgeo((('state', '48'), ('county', '427'))),\n",
              " 'Stephens County, Texas': censusgeo((('state', '48'), ('county', '429'))),\n",
              " 'Sterling County, Texas': censusgeo((('state', '48'), ('county', '431'))),\n",
              " 'Stonewall County, Texas': censusgeo((('state', '48'), ('county', '433'))),\n",
              " 'Sutton County, Texas': censusgeo((('state', '48'), ('county', '435'))),\n",
              " 'Swisher County, Texas': censusgeo((('state', '48'), ('county', '437'))),\n",
              " 'Tarrant County, Texas': censusgeo((('state', '48'), ('county', '439'))),\n",
              " 'Taylor County, Texas': censusgeo((('state', '48'), ('county', '441'))),\n",
              " 'Terrell County, Texas': censusgeo((('state', '48'), ('county', '443'))),\n",
              " 'Terry County, Texas': censusgeo((('state', '48'), ('county', '445'))),\n",
              " 'Throckmorton County, Texas': censusgeo((('state', '48'), ('county', '447'))),\n",
              " 'Titus County, Texas': censusgeo((('state', '48'), ('county', '449'))),\n",
              " 'Tom Green County, Texas': censusgeo((('state', '48'), ('county', '451'))),\n",
              " 'Travis County, Texas': censusgeo((('state', '48'), ('county', '453'))),\n",
              " 'Trinity County, Texas': censusgeo((('state', '48'), ('county', '455'))),\n",
              " 'Tyler County, Texas': censusgeo((('state', '48'), ('county', '457'))),\n",
              " 'Upshur County, Texas': censusgeo((('state', '48'), ('county', '459'))),\n",
              " 'Upton County, Texas': censusgeo((('state', '48'), ('county', '461'))),\n",
              " 'Uvalde County, Texas': censusgeo((('state', '48'), ('county', '463'))),\n",
              " 'Val Verde County, Texas': censusgeo((('state', '48'), ('county', '465'))),\n",
              " 'Van Zandt County, Texas': censusgeo((('state', '48'), ('county', '467'))),\n",
              " 'Victoria County, Texas': censusgeo((('state', '48'), ('county', '469'))),\n",
              " 'Walker County, Texas': censusgeo((('state', '48'), ('county', '471'))),\n",
              " 'Waller County, Texas': censusgeo((('state', '48'), ('county', '473'))),\n",
              " 'Ward County, Texas': censusgeo((('state', '48'), ('county', '475'))),\n",
              " 'Washington County, Texas': censusgeo((('state', '48'), ('county', '477'))),\n",
              " 'Webb County, Texas': censusgeo((('state', '48'), ('county', '479'))),\n",
              " 'Wharton County, Texas': censusgeo((('state', '48'), ('county', '481'))),\n",
              " 'Wheeler County, Texas': censusgeo((('state', '48'), ('county', '483'))),\n",
              " 'Wichita County, Texas': censusgeo((('state', '48'), ('county', '485'))),\n",
              " 'Wilbarger County, Texas': censusgeo((('state', '48'), ('county', '487'))),\n",
              " 'Willacy County, Texas': censusgeo((('state', '48'), ('county', '489'))),\n",
              " 'Williamson County, Texas': censusgeo((('state', '48'), ('county', '491'))),\n",
              " 'Wilson County, Texas': censusgeo((('state', '48'), ('county', '493'))),\n",
              " 'Winkler County, Texas': censusgeo((('state', '48'), ('county', '495'))),\n",
              " 'Wise County, Texas': censusgeo((('state', '48'), ('county', '497'))),\n",
              " 'Wood County, Texas': censusgeo((('state', '48'), ('county', '499'))),\n",
              " 'Yoakum County, Texas': censusgeo((('state', '48'), ('county', '501'))),\n",
              " 'Young County, Texas': censusgeo((('state', '48'), ('county', '503'))),\n",
              " 'Zapata County, Texas': censusgeo((('state', '48'), ('county', '505'))),\n",
              " 'Zavala County, Texas': censusgeo((('state', '48'), ('county', '507')))}"
            ]
          },
          "metadata": {
            "tags": []
          },
          "execution_count": 132
        }
      ]
    },
    {
      "cell_type": "code",
      "metadata": {
        "id": "f5GoogfVEnjw",
        "colab_type": "code",
        "colab": {}
      },
      "source": [
        "#austin_counties = ['021', '055', '209', '453', '491']\n",
        "austin_counties = ['453']"
      ],
      "execution_count": 0,
      "outputs": []
    },
    {
      "cell_type": "code",
      "metadata": {
        "id": "RGmqnDt3xVrM",
        "colab_type": "code",
        "colab": {}
      },
      "source": [
        "## Get all the census tracts from the counties \n",
        "## state> county> tract\n",
        "\n",
        "austin_tracts_names = []\n",
        "for county_id in austin_counties:\n",
        "  county_tracts = censusdata.geographies(censusdata.censusgeo([('state', '48'), ('county', county_id), ('tract', '*')]), 'acs5', 2016)\n",
        "  austin_tracts_names.extend(county_tracts.keys())"
      ],
      "execution_count": 0,
      "outputs": []
    },
    {
      "cell_type": "code",
      "metadata": {
        "id": "-tLIzs0J2NU3",
        "colab_type": "code",
        "outputId": "13231933-a592-4c3e-96e9-b049aef425ef",
        "colab": {
          "base_uri": "https://localhost:8080/",
          "height": 629
        }
      },
      "source": [
        "## Search for all variables by the label 'housing', first 10\n",
        "censusdata.search('acs5', 2016, 'label', 'white', 'profile')"
      ],
      "execution_count": 0,
      "outputs": [
        {
          "output_type": "execute_result",
          "data": {
            "text/plain": [
              "[('DP05_0032E',\n",
              "  'ACS DEMOGRAPHIC AND HOUSING ESTIMATES',\n",
              "  'Estimate!!RACE!!One race!!White'),\n",
              " ('DP05_0032PE',\n",
              "  'ACS DEMOGRAPHIC AND HOUSING ESTIMATES',\n",
              "  'Percent!!RACE!!One race!!White'),\n",
              " ('DP05_0054E',\n",
              "  'ACS DEMOGRAPHIC AND HOUSING ESTIMATES',\n",
              "  'Estimate!!RACE!!Two or more races!!White and Black or African American'),\n",
              " ('DP05_0054PE',\n",
              "  'ACS DEMOGRAPHIC AND HOUSING ESTIMATES',\n",
              "  'Percent!!RACE!!Two or more races!!White and Black or African American'),\n",
              " ('DP05_0055E',\n",
              "  'ACS DEMOGRAPHIC AND HOUSING ESTIMATES',\n",
              "  'Estimate!!RACE!!Two or more races!!White and American Indian and Alaska Native'),\n",
              " ('DP05_0055PE',\n",
              "  'ACS DEMOGRAPHIC AND HOUSING ESTIMATES',\n",
              "  'Percent!!RACE!!Two or more races!!White and American Indian and Alaska Native'),\n",
              " ('DP05_0056E',\n",
              "  'ACS DEMOGRAPHIC AND HOUSING ESTIMATES',\n",
              "  'Estimate!!RACE!!Two or more races!!White and Asian'),\n",
              " ('DP05_0056PE',\n",
              "  'ACS DEMOGRAPHIC AND HOUSING ESTIMATES',\n",
              "  'Percent!!RACE!!Two or more races!!White and Asian'),\n",
              " ('DP05_0059E',\n",
              "  'ACS DEMOGRAPHIC AND HOUSING ESTIMATES',\n",
              "  'Estimate!!RACE!!Race alone or in combination with one or more other races!!Total population!!White'),\n",
              " ('DP05_0059PE',\n",
              "  'ACS DEMOGRAPHIC AND HOUSING ESTIMATES',\n",
              "  'Percent!!RACE!!Race alone or in combination with one or more other races!!Total population!!White'),\n",
              " ('DP05_0072E',\n",
              "  'ACS DEMOGRAPHIC AND HOUSING ESTIMATES',\n",
              "  'Estimate!!HISPANIC OR LATINO AND RACE!!Total population!!Not Hispanic or Latino!!White alone'),\n",
              " ('DP05_0072PE',\n",
              "  'ACS DEMOGRAPHIC AND HOUSING ESTIMATES',\n",
              "  'Percent!!HISPANIC OR LATINO AND RACE!!Total population!!Not Hispanic or Latino!!White alone')]"
            ]
          },
          "metadata": {
            "tags": []
          },
          "execution_count": 209
        }
      ]
    },
    {
      "cell_type": "code",
      "metadata": {
        "id": "OJ6uUkpK3CCS",
        "colab_type": "code",
        "outputId": "ba8f81d8-c3f3-4588-f175-4e39da9d4cf7",
        "colab": {
          "base_uri": "https://localhost:8080/",
          "height": 463
        }
      },
      "source": [
        "\n",
        "#find all census tracts within the MSA and generate % white of every census tract  \n",
        "\n",
        "austin_msa = censusdata.download('acs5', 2016,\n",
        "                             censusdata.censusgeo([('metropolitan statistical area/micropolitan statistical area', '12420')]),\n",
        "                             ['DP05_0032PE'])\n",
        "\n",
        "##i think the above one returns the right %white population, turns out there a lot of yt ppl \n",
        "##think about: how does construction of hispanic/latino as a race shape this? \n",
        "##acs: \"The data on race are based on self-identification and the categories on the form generally reflect a social definition of race\"\n",
        "\n",
        "## AH: Yes! Here's a good paper on this -- https://www.annualreviews.org/doi/abs/10.1146/annurev.soc.29.010202.100006\n",
        "\n",
        "##austin_msa = censusdata.download('acs5', 2016,\n",
        "                             #censusdata.censusgeo([('state', '48')]),\n",
        "                             #['B02001_002E', 'B01003_001E'])\n",
        "# above returns %white for the entire state of tx \n",
        "\n",
        "#total population: B01003_001E\n",
        "#estimate total white alone: B02001_002E\n",
        "#educational attainment for the population 25 yr+: B15003_001E\n",
        "austin_msa"
      ],
      "execution_count": 0,
      "outputs": [
        {
          "output_type": "stream",
          "text": [
            "Unexpected response (URL: https://api.census.gov/data/2016/acs/acs5?get=NAME,DP05_0032PE&for=metropolitan+statistical+area/micropolitan+statistical+area:12420): error: error: unknown variable 'DP05_0032PE' \n"
          ],
          "name": "stdout"
        },
        {
          "output_type": "error",
          "ename": "ValueError",
          "evalue": "ignored",
          "traceback": [
            "\u001b[0;31m---------------------------------------------------------------------------\u001b[0m",
            "\u001b[0;31mJSONDecodeError\u001b[0m                           Traceback (most recent call last)",
            "\u001b[0;32m/usr/local/lib/python3.6/dist-packages/censusdata/download.py\u001b[0m in \u001b[0;36m_download\u001b[0;34m(src, year, params, baseurl, endpt)\u001b[0m\n\u001b[1;32m     33\u001b[0m         \u001b[0;32mtry\u001b[0m\u001b[0;34m:\u001b[0m\u001b[0;34m\u001b[0m\u001b[0;34m\u001b[0m\u001b[0m\n\u001b[0;32m---> 34\u001b[0;31m                 \u001b[0mdata\u001b[0m \u001b[0;34m=\u001b[0m \u001b[0mr\u001b[0m\u001b[0;34m.\u001b[0m\u001b[0mjson\u001b[0m\u001b[0;34m(\u001b[0m\u001b[0;34m)\u001b[0m\u001b[0;34m\u001b[0m\u001b[0;34m\u001b[0m\u001b[0m\n\u001b[0m\u001b[1;32m     35\u001b[0m         \u001b[0;32mexcept\u001b[0m\u001b[0;34m:\u001b[0m\u001b[0;34m\u001b[0m\u001b[0;34m\u001b[0m\u001b[0m\n",
            "\u001b[0;32m/usr/local/lib/python3.6/dist-packages/requests/models.py\u001b[0m in \u001b[0;36mjson\u001b[0;34m(self, **kwargs)\u001b[0m\n\u001b[1;32m    896\u001b[0m                     \u001b[0;32mpass\u001b[0m\u001b[0;34m\u001b[0m\u001b[0;34m\u001b[0m\u001b[0m\n\u001b[0;32m--> 897\u001b[0;31m         \u001b[0;32mreturn\u001b[0m \u001b[0mcomplexjson\u001b[0m\u001b[0;34m.\u001b[0m\u001b[0mloads\u001b[0m\u001b[0;34m(\u001b[0m\u001b[0mself\u001b[0m\u001b[0;34m.\u001b[0m\u001b[0mtext\u001b[0m\u001b[0;34m,\u001b[0m \u001b[0;34m**\u001b[0m\u001b[0mkwargs\u001b[0m\u001b[0;34m)\u001b[0m\u001b[0;34m\u001b[0m\u001b[0;34m\u001b[0m\u001b[0m\n\u001b[0m\u001b[1;32m    898\u001b[0m \u001b[0;34m\u001b[0m\u001b[0m\n",
            "\u001b[0;32m/usr/lib/python3.6/json/__init__.py\u001b[0m in \u001b[0;36mloads\u001b[0;34m(s, encoding, cls, object_hook, parse_float, parse_int, parse_constant, object_pairs_hook, **kw)\u001b[0m\n\u001b[1;32m    353\u001b[0m             parse_constant is None and object_pairs_hook is None and not kw):\n\u001b[0;32m--> 354\u001b[0;31m         \u001b[0;32mreturn\u001b[0m \u001b[0m_default_decoder\u001b[0m\u001b[0;34m.\u001b[0m\u001b[0mdecode\u001b[0m\u001b[0;34m(\u001b[0m\u001b[0ms\u001b[0m\u001b[0;34m)\u001b[0m\u001b[0;34m\u001b[0m\u001b[0;34m\u001b[0m\u001b[0m\n\u001b[0m\u001b[1;32m    355\u001b[0m     \u001b[0;32mif\u001b[0m \u001b[0mcls\u001b[0m \u001b[0;32mis\u001b[0m \u001b[0;32mNone\u001b[0m\u001b[0;34m:\u001b[0m\u001b[0;34m\u001b[0m\u001b[0;34m\u001b[0m\u001b[0m\n",
            "\u001b[0;32m/usr/lib/python3.6/json/decoder.py\u001b[0m in \u001b[0;36mdecode\u001b[0;34m(self, s, _w)\u001b[0m\n\u001b[1;32m    338\u001b[0m         \"\"\"\n\u001b[0;32m--> 339\u001b[0;31m         \u001b[0mobj\u001b[0m\u001b[0;34m,\u001b[0m \u001b[0mend\u001b[0m \u001b[0;34m=\u001b[0m \u001b[0mself\u001b[0m\u001b[0;34m.\u001b[0m\u001b[0mraw_decode\u001b[0m\u001b[0;34m(\u001b[0m\u001b[0ms\u001b[0m\u001b[0;34m,\u001b[0m \u001b[0midx\u001b[0m\u001b[0;34m=\u001b[0m\u001b[0m_w\u001b[0m\u001b[0;34m(\u001b[0m\u001b[0ms\u001b[0m\u001b[0;34m,\u001b[0m \u001b[0;36m0\u001b[0m\u001b[0;34m)\u001b[0m\u001b[0;34m.\u001b[0m\u001b[0mend\u001b[0m\u001b[0;34m(\u001b[0m\u001b[0;34m)\u001b[0m\u001b[0;34m)\u001b[0m\u001b[0;34m\u001b[0m\u001b[0;34m\u001b[0m\u001b[0m\n\u001b[0m\u001b[1;32m    340\u001b[0m         \u001b[0mend\u001b[0m \u001b[0;34m=\u001b[0m \u001b[0m_w\u001b[0m\u001b[0;34m(\u001b[0m\u001b[0ms\u001b[0m\u001b[0;34m,\u001b[0m \u001b[0mend\u001b[0m\u001b[0;34m)\u001b[0m\u001b[0;34m.\u001b[0m\u001b[0mend\u001b[0m\u001b[0;34m(\u001b[0m\u001b[0;34m)\u001b[0m\u001b[0;34m\u001b[0m\u001b[0;34m\u001b[0m\u001b[0m\n",
            "\u001b[0;32m/usr/lib/python3.6/json/decoder.py\u001b[0m in \u001b[0;36mraw_decode\u001b[0;34m(self, s, idx)\u001b[0m\n\u001b[1;32m    356\u001b[0m         \u001b[0;32mexcept\u001b[0m \u001b[0mStopIteration\u001b[0m \u001b[0;32mas\u001b[0m \u001b[0merr\u001b[0m\u001b[0;34m:\u001b[0m\u001b[0;34m\u001b[0m\u001b[0;34m\u001b[0m\u001b[0m\n\u001b[0;32m--> 357\u001b[0;31m             \u001b[0;32mraise\u001b[0m \u001b[0mJSONDecodeError\u001b[0m\u001b[0;34m(\u001b[0m\u001b[0;34m\"Expecting value\"\u001b[0m\u001b[0;34m,\u001b[0m \u001b[0ms\u001b[0m\u001b[0;34m,\u001b[0m \u001b[0merr\u001b[0m\u001b[0;34m.\u001b[0m\u001b[0mvalue\u001b[0m\u001b[0;34m)\u001b[0m \u001b[0;32mfrom\u001b[0m \u001b[0;32mNone\u001b[0m\u001b[0;34m\u001b[0m\u001b[0;34m\u001b[0m\u001b[0m\n\u001b[0m\u001b[1;32m    358\u001b[0m         \u001b[0;32mreturn\u001b[0m \u001b[0mobj\u001b[0m\u001b[0;34m,\u001b[0m \u001b[0mend\u001b[0m\u001b[0;34m\u001b[0m\u001b[0;34m\u001b[0m\u001b[0m\n",
            "\u001b[0;31mJSONDecodeError\u001b[0m: Expecting value: line 1 column 1 (char 0)",
            "\nDuring handling of the above exception, another exception occurred:\n",
            "\u001b[0;31mValueError\u001b[0m                                Traceback (most recent call last)",
            "\u001b[0;32m<ipython-input-210-317cfc609cf5>\u001b[0m in \u001b[0;36m<module>\u001b[0;34m()\u001b[0m\n\u001b[1;32m      2\u001b[0m austin_msa = censusdata.download('acs5', 2016,\n\u001b[1;32m      3\u001b[0m                              \u001b[0mcensusdata\u001b[0m\u001b[0;34m.\u001b[0m\u001b[0mcensusgeo\u001b[0m\u001b[0;34m(\u001b[0m\u001b[0;34m[\u001b[0m\u001b[0;34m(\u001b[0m\u001b[0;34m'metropolitan statistical area/micropolitan statistical area'\u001b[0m\u001b[0;34m,\u001b[0m \u001b[0;34m'12420'\u001b[0m\u001b[0;34m)\u001b[0m\u001b[0;34m]\u001b[0m\u001b[0;34m)\u001b[0m\u001b[0;34m,\u001b[0m\u001b[0;34m\u001b[0m\u001b[0;34m\u001b[0m\u001b[0m\n\u001b[0;32m----> 4\u001b[0;31m                              ['DP05_0032PE'])\n\u001b[0m\u001b[1;32m      5\u001b[0m \u001b[0;34m\u001b[0m\u001b[0m\n\u001b[1;32m      6\u001b[0m \u001b[0;31m##i think the above one returns the right %white population, turns out there a lot of yt ppl\u001b[0m\u001b[0;34m\u001b[0m\u001b[0;34m\u001b[0m\u001b[0;34m\u001b[0m\u001b[0m\n",
            "\u001b[0;32m/usr/local/lib/python3.6/dist-packages/censusdata/download.py\u001b[0m in \u001b[0;36mdownload\u001b[0;34m(src, year, geo, var, key, tabletype, endpt)\u001b[0m\n\u001b[1;32m    114\u001b[0m                 \u001b[0mparams\u001b[0m\u001b[0;34m.\u001b[0m\u001b[0mupdate\u001b[0m\u001b[0;34m(\u001b[0m\u001b[0mgeorequest\u001b[0m\u001b[0;34m)\u001b[0m\u001b[0;34m\u001b[0m\u001b[0;34m\u001b[0m\u001b[0m\n\u001b[1;32m    115\u001b[0m                 \u001b[0;32mif\u001b[0m \u001b[0mkey\u001b[0m \u001b[0;32mis\u001b[0m \u001b[0;32mnot\u001b[0m \u001b[0;32mNone\u001b[0m\u001b[0;34m:\u001b[0m \u001b[0mparams\u001b[0m\u001b[0;34m.\u001b[0m\u001b[0mupdate\u001b[0m\u001b[0;34m(\u001b[0m\u001b[0;34m{\u001b[0m\u001b[0;34m'key'\u001b[0m\u001b[0;34m:\u001b[0m \u001b[0mkey\u001b[0m\u001b[0;34m}\u001b[0m\u001b[0;34m)\u001b[0m\u001b[0;34m\u001b[0m\u001b[0;34m\u001b[0m\u001b[0m\n\u001b[0;32m--> 116\u001b[0;31m                 \u001b[0mdata\u001b[0m\u001b[0;34m.\u001b[0m\u001b[0mupdate\u001b[0m\u001b[0;34m(\u001b[0m\u001b[0m_download\u001b[0m\u001b[0;34m(\u001b[0m\u001b[0msrc\u001b[0m \u001b[0;34m+\u001b[0m \u001b[0mtabletype\u001b[0m\u001b[0;34m,\u001b[0m \u001b[0myear\u001b[0m\u001b[0;34m,\u001b[0m \u001b[0mparams\u001b[0m\u001b[0;34m,\u001b[0m \u001b[0mendpt\u001b[0m\u001b[0;34m=\u001b[0m\u001b[0mendpt\u001b[0m\u001b[0;34m)\u001b[0m\u001b[0;34m)\u001b[0m\u001b[0;34m\u001b[0m\u001b[0;34m\u001b[0m\u001b[0m\n\u001b[0m\u001b[1;32m    117\u001b[0m         \u001b[0mgeodata\u001b[0m \u001b[0;34m=\u001b[0m \u001b[0mdata\u001b[0m\u001b[0;34m.\u001b[0m\u001b[0mcopy\u001b[0m\u001b[0;34m(\u001b[0m\u001b[0;34m)\u001b[0m\u001b[0;34m\u001b[0m\u001b[0;34m\u001b[0m\u001b[0m\n\u001b[1;32m    118\u001b[0m         \u001b[0;32mfor\u001b[0m \u001b[0mkey\u001b[0m \u001b[0;32min\u001b[0m \u001b[0mlist\u001b[0m\u001b[0;34m(\u001b[0m\u001b[0mgeodata\u001b[0m\u001b[0;34m.\u001b[0m\u001b[0mkeys\u001b[0m\u001b[0;34m(\u001b[0m\u001b[0;34m)\u001b[0m\u001b[0;34m)\u001b[0m\u001b[0;34m:\u001b[0m\u001b[0;34m\u001b[0m\u001b[0;34m\u001b[0m\u001b[0m\n",
            "\u001b[0;32m/usr/local/lib/python3.6/dist-packages/censusdata/download.py\u001b[0m in \u001b[0;36m_download\u001b[0;34m(src, year, params, baseurl, endpt)\u001b[0m\n\u001b[1;32m     35\u001b[0m         \u001b[0;32mexcept\u001b[0m\u001b[0;34m:\u001b[0m\u001b[0;34m\u001b[0m\u001b[0;34m\u001b[0m\u001b[0m\n\u001b[1;32m     36\u001b[0m                 \u001b[0mprint\u001b[0m\u001b[0;34m(\u001b[0m\u001b[0;34m'Unexpected response (URL: {0.url}): {0.text} '\u001b[0m\u001b[0;34m.\u001b[0m\u001b[0mformat\u001b[0m\u001b[0;34m(\u001b[0m\u001b[0mr\u001b[0m\u001b[0;34m)\u001b[0m\u001b[0;34m)\u001b[0m\u001b[0;34m\u001b[0m\u001b[0;34m\u001b[0m\u001b[0m\n\u001b[0;32m---> 37\u001b[0;31m                 \u001b[0;32mraise\u001b[0m \u001b[0mValueError\u001b[0m\u001b[0;34m\u001b[0m\u001b[0;34m\u001b[0m\u001b[0m\n\u001b[0m\u001b[1;32m     38\u001b[0m         \u001b[0mrdata\u001b[0m \u001b[0;34m=\u001b[0m \u001b[0mOrderedDict\u001b[0m\u001b[0;34m(\u001b[0m\u001b[0;34m)\u001b[0m\u001b[0;34m\u001b[0m\u001b[0;34m\u001b[0m\u001b[0m\n\u001b[1;32m     39\u001b[0m         \u001b[0;32mfor\u001b[0m \u001b[0mj\u001b[0m \u001b[0;32min\u001b[0m \u001b[0mrange\u001b[0m\u001b[0;34m(\u001b[0m\u001b[0mlen\u001b[0m\u001b[0;34m(\u001b[0m\u001b[0mdata\u001b[0m\u001b[0;34m[\u001b[0m\u001b[0;36m0\u001b[0m\u001b[0;34m]\u001b[0m\u001b[0;34m)\u001b[0m\u001b[0;34m)\u001b[0m\u001b[0;34m:\u001b[0m\u001b[0;34m\u001b[0m\u001b[0;34m\u001b[0m\u001b[0m\n",
            "\u001b[0;31mValueError\u001b[0m: "
          ]
        }
      ]
    },
    {
      "cell_type": "code",
      "metadata": {
        "id": "I0wWQXvaoYF6",
        "colab_type": "code",
        "outputId": "5eaba3a7-69aa-4556-9d8a-bf30f0ff4369",
        "colab": {
          "base_uri": "https://localhost:8080/",
          "height": 34
        }
      },
      "source": [
        "type (white_travis)\n",
        "#returns data frame is a spreadsheet (rows and cols)"
      ],
      "execution_count": 0,
      "outputs": [
        {
          "output_type": "execute_result",
          "data": {
            "text/plain": [
              "pandas.core.frame.DataFrame"
            ]
          },
          "metadata": {
            "tags": []
          },
          "execution_count": 139
        }
      ]
    },
    {
      "cell_type": "code",
      "metadata": {
        "id": "c2AP3Co2Y7bc",
        "colab_type": "code",
        "outputId": "64dd23d1-1f89-495f-e303-6cadf00afed7",
        "colab": {
          "base_uri": "https://localhost:8080/",
          "height": 419
        }
      },
      "source": [
        "white_travis"
      ],
      "execution_count": 0,
      "outputs": [
        {
          "output_type": "execute_result",
          "data": {
            "text/html": [
              "<div>\n",
              "<style scoped>\n",
              "    .dataframe tbody tr th:only-of-type {\n",
              "        vertical-align: middle;\n",
              "    }\n",
              "\n",
              "    .dataframe tbody tr th {\n",
              "        vertical-align: top;\n",
              "    }\n",
              "\n",
              "    .dataframe thead th {\n",
              "        text-align: right;\n",
              "    }\n",
              "</style>\n",
              "<table border=\"1\" class=\"dataframe\">\n",
              "  <thead>\n",
              "    <tr style=\"text-align: right;\">\n",
              "      <th></th>\n",
              "      <th>B02001_002E</th>\n",
              "      <th>B01003_001E</th>\n",
              "    </tr>\n",
              "  </thead>\n",
              "  <tbody>\n",
              "    <tr>\n",
              "      <th>Census Tract 1.01, Travis County, Texas: Summary level: 140, state:48&gt; county:453&gt; tract:000101</th>\n",
              "      <td>3990</td>\n",
              "      <td>4331</td>\n",
              "    </tr>\n",
              "    <tr>\n",
              "      <th>Census Tract 1.02, Travis County, Texas: Summary level: 140, state:48&gt; county:453&gt; tract:000102</th>\n",
              "      <td>2409</td>\n",
              "      <td>2572</td>\n",
              "    </tr>\n",
              "    <tr>\n",
              "      <th>Census Tract 2.03, Travis County, Texas: Summary level: 140, state:48&gt; county:453&gt; tract:000203</th>\n",
              "      <td>1135</td>\n",
              "      <td>1470</td>\n",
              "    </tr>\n",
              "    <tr>\n",
              "      <th>Census Tract 2.04, Travis County, Texas: Summary level: 140, state:48&gt; county:453&gt; tract:000204</th>\n",
              "      <td>2628</td>\n",
              "      <td>3090</td>\n",
              "    </tr>\n",
              "    <tr>\n",
              "      <th>Census Tract 2.05, Travis County, Texas: Summary level: 140, state:48&gt; county:453&gt; tract:000205</th>\n",
              "      <td>3528</td>\n",
              "      <td>4227</td>\n",
              "    </tr>\n",
              "    <tr>\n",
              "      <th>...</th>\n",
              "      <td>...</td>\n",
              "      <td>...</td>\n",
              "    </tr>\n",
              "    <tr>\n",
              "      <th>Census Tract 24.34, Travis County, Texas: Summary level: 140, state:48&gt; county:453&gt; tract:002434</th>\n",
              "      <td>1482</td>\n",
              "      <td>1858</td>\n",
              "    </tr>\n",
              "    <tr>\n",
              "      <th>Census Tract 24.35, Travis County, Texas: Summary level: 140, state:48&gt; county:453&gt; tract:002435</th>\n",
              "      <td>5216</td>\n",
              "      <td>7900</td>\n",
              "    </tr>\n",
              "    <tr>\n",
              "      <th>Census Tract 24.36, Travis County, Texas: Summary level: 140, state:48&gt; county:453&gt; tract:002436</th>\n",
              "      <td>2324</td>\n",
              "      <td>2758</td>\n",
              "    </tr>\n",
              "    <tr>\n",
              "      <th>Census Tract 25, Travis County, Texas: Summary level: 140, state:48&gt; county:453&gt; tract:002500</th>\n",
              "      <td>4678</td>\n",
              "      <td>5642</td>\n",
              "    </tr>\n",
              "    <tr>\n",
              "      <th>Census Tract 9800, Travis County, Texas: Summary level: 140, state:48&gt; county:453&gt; tract:980000</th>\n",
              "      <td>0</td>\n",
              "      <td>0</td>\n",
              "    </tr>\n",
              "  </tbody>\n",
              "</table>\n",
              "<p>218 rows × 2 columns</p>\n",
              "</div>"
            ],
            "text/plain": [
              "                                                    B02001_002E  B01003_001E\n",
              "Census Tract 1.01, Travis County, Texas: Summar...         3990         4331\n",
              "Census Tract 1.02, Travis County, Texas: Summar...         2409         2572\n",
              "Census Tract 2.03, Travis County, Texas: Summar...         1135         1470\n",
              "Census Tract 2.04, Travis County, Texas: Summar...         2628         3090\n",
              "Census Tract 2.05, Travis County, Texas: Summar...         3528         4227\n",
              "...                                                         ...          ...\n",
              "Census Tract 24.34, Travis County, Texas: Summa...         1482         1858\n",
              "Census Tract 24.35, Travis County, Texas: Summa...         5216         7900\n",
              "Census Tract 24.36, Travis County, Texas: Summa...         2324         2758\n",
              "Census Tract 25, Travis County, Texas: Summary ...         4678         5642\n",
              "Census Tract 9800, Travis County, Texas: Summar...            0            0\n",
              "\n",
              "[218 rows x 2 columns]"
            ]
          },
          "metadata": {
            "tags": []
          },
          "execution_count": 140
        }
      ]
    },
    {
      "cell_type": "code",
      "metadata": {
        "id": "7tcXUpTDpDkC",
        "colab_type": "code",
        "outputId": "fd1bb164-becb-4299-b0b8-04d71e8da9c1",
        "colab": {
          "base_uri": "https://localhost:8080/",
          "height": 241
        }
      },
      "source": [
        "percent_white_travis\n",
        "#returns series, a column "
      ],
      "execution_count": 0,
      "outputs": [
        {
          "output_type": "execute_result",
          "data": {
            "text/plain": [
              "Census Tract 1.01, Travis County, Texas: Summary level: 140, state:48> county:453> tract:000101     0.921265\n",
              "Census Tract 1.02, Travis County, Texas: Summary level: 140, state:48> county:453> tract:000102     0.936625\n",
              "Census Tract 2.03, Travis County, Texas: Summary level: 140, state:48> county:453> tract:000203     0.772109\n",
              "Census Tract 2.04, Travis County, Texas: Summary level: 140, state:48> county:453> tract:000204     0.850485\n",
              "Census Tract 2.05, Travis County, Texas: Summary level: 140, state:48> county:453> tract:000205     0.834634\n",
              "                                                                                                      ...   \n",
              "Census Tract 24.34, Travis County, Texas: Summary level: 140, state:48> county:453> tract:002434    0.797632\n",
              "Census Tract 24.35, Travis County, Texas: Summary level: 140, state:48> county:453> tract:002435    0.660253\n",
              "Census Tract 24.36, Travis County, Texas: Summary level: 140, state:48> county:453> tract:002436    0.842640\n",
              "Census Tract 25, Travis County, Texas: Summary level: 140, state:48> county:453> tract:002500       0.829139\n",
              "Census Tract 9800, Travis County, Texas: Summary level: 140, state:48> county:453> tract:980000          NaN\n",
              "Length: 218, dtype: float64"
            ]
          },
          "metadata": {
            "tags": []
          },
          "execution_count": 141
        }
      ]
    },
    {
      "cell_type": "code",
      "metadata": {
        "id": "5pgym114pqwd",
        "colab_type": "code",
        "outputId": "3fea42b8-b8d1-401d-e8a4-d67e82c2ad9f",
        "colab": {
          "base_uri": "https://localhost:8080/",
          "height": 34
        }
      },
      "source": [
        "percent_white_travis.mean()"
      ],
      "execution_count": 0,
      "outputs": [
        {
          "output_type": "execute_result",
          "data": {
            "text/plain": [
              "0.7738902959437536"
            ]
          },
          "metadata": {
            "tags": []
          },
          "execution_count": 142
        }
      ]
    },
    {
      "cell_type": "markdown",
      "metadata": {
        "id": "uX0p-j9Ivh1p",
        "colab_type": "text"
      },
      "source": [
        "## Calculating percent white per tract"
      ]
    },
    {
      "cell_type": "code",
      "metadata": {
        "id": "XAk0i9j8qBMu",
        "colab_type": "code",
        "colab": {}
      },
      "source": [
        "## import pandas\n",
        "import pandas as pd\n",
        "\n",
        "## create an empty DataFrame to store results in\n",
        "df_white = pd.DataFrame()\n",
        "\n",
        "## calculate the average %white for each tract\n",
        "for county_id in austin_counties:\n",
        "  county_white = censusdata.download('acs5', 2016,\n",
        "                    censusdata.censusgeo([('state', '48'), ('county', county_id), ('tract', '*')]),\n",
        "                    ['DP05_0032PE'], tabletype = 'profile')\n",
        "  \n",
        "  ## this adds the downloaded Census data to single data frame\n",
        "  df_white = df_white.append(county_white)"
      ],
      "execution_count": 0,
      "outputs": []
    },
    {
      "cell_type": "code",
      "metadata": {
        "id": "Qv-lugCMsJa8",
        "colab_type": "code",
        "colab": {}
      },
      "source": [
        "## this lets see the whole dataframe\n",
        "df_white = df_white[df_white['DP05_0032PE'] > 0]"
      ],
      "execution_count": 0,
      "outputs": []
    },
    {
      "cell_type": "code",
      "metadata": {
        "id": "jgVmkonSuTzO",
        "colab_type": "code",
        "outputId": "81152b23-d59b-42c0-e47d-2fbcb23c515c",
        "colab": {
          "base_uri": "https://localhost:8080/",
          "height": 297
        }
      },
      "source": [
        "## get a summary of each of these columns\n",
        "df_white.describe()\n",
        "\n",
        "## FL: If count = the number of census tracts, \n",
        "## why is percent_white not calculating one tract? \n",
        "## FL: Why does the min return an empty census tract and 29% white? "
      ],
      "execution_count": 0,
      "outputs": [
        {
          "output_type": "execute_result",
          "data": {
            "text/html": [
              "<div>\n",
              "<style scoped>\n",
              "    .dataframe tbody tr th:only-of-type {\n",
              "        vertical-align: middle;\n",
              "    }\n",
              "\n",
              "    .dataframe tbody tr th {\n",
              "        vertical-align: top;\n",
              "    }\n",
              "\n",
              "    .dataframe thead th {\n",
              "        text-align: right;\n",
              "    }\n",
              "</style>\n",
              "<table border=\"1\" class=\"dataframe\">\n",
              "  <thead>\n",
              "    <tr style=\"text-align: right;\">\n",
              "      <th></th>\n",
              "      <th>DP05_0032PE</th>\n",
              "    </tr>\n",
              "  </thead>\n",
              "  <tbody>\n",
              "    <tr>\n",
              "      <th>count</th>\n",
              "      <td>2.180000e+02</td>\n",
              "    </tr>\n",
              "    <tr>\n",
              "      <th>mean</th>\n",
              "      <td>-3.058027e+06</td>\n",
              "    </tr>\n",
              "    <tr>\n",
              "      <th>std</th>\n",
              "      <td>4.515237e+07</td>\n",
              "    </tr>\n",
              "    <tr>\n",
              "      <th>min</th>\n",
              "      <td>-6.666667e+08</td>\n",
              "    </tr>\n",
              "    <tr>\n",
              "      <th>25%</th>\n",
              "      <td>6.682500e+01</td>\n",
              "    </tr>\n",
              "    <tr>\n",
              "      <th>50%</th>\n",
              "      <td>8.030000e+01</td>\n",
              "    </tr>\n",
              "    <tr>\n",
              "      <th>75%</th>\n",
              "      <td>8.637500e+01</td>\n",
              "    </tr>\n",
              "    <tr>\n",
              "      <th>max</th>\n",
              "      <td>9.720000e+01</td>\n",
              "    </tr>\n",
              "  </tbody>\n",
              "</table>\n",
              "</div>"
            ],
            "text/plain": [
              "        DP05_0032PE\n",
              "count  2.180000e+02\n",
              "mean  -3.058027e+06\n",
              "std    4.515237e+07\n",
              "min   -6.666667e+08\n",
              "25%    6.682500e+01\n",
              "50%    8.030000e+01\n",
              "75%    8.637500e+01\n",
              "max    9.720000e+01"
            ]
          },
          "metadata": {
            "tags": []
          },
          "execution_count": 215
        }
      ]
    },
    {
      "cell_type": "code",
      "metadata": {
        "id": "V3LZlMg7Dofs",
        "colab_type": "code",
        "colab": {}
      },
      "source": [
        "## get tract and county\n",
        "df_white = df_white.reset_index()\n",
        "df_white['TRACTCE'] = df_white['index'].apply(lambda x: x.request()['for'].split('tract:')[1])\n",
        "df_white['COUNTYFP'] = df_white['index'].apply(lambda x: x.request()['in'][-3:])"
      ],
      "execution_count": 0,
      "outputs": []
    },
    {
      "cell_type": "markdown",
      "metadata": {
        "id": "8zWP9nkXwD76",
        "colab_type": "text"
      },
      "source": [
        "## Lack of Education"
      ]
    },
    {
      "cell_type": "code",
      "metadata": {
        "id": "ZfTBRSTLvAjb",
        "colab_type": "code",
        "colab": {}
      },
      "source": [
        "## TODO(Francesca) -- \n",
        "## Do this same type of analysis with Lack of College Education\n",
        "## i.e. Percentage of adults ages 25 and up in the tract who lack a four year \n",
        "##      college degree or higher level of education. "
      ],
      "execution_count": 0,
      "outputs": []
    },
    {
      "cell_type": "code",
      "metadata": {
        "id": "4KxbIG3j8lvY",
        "colab_type": "code",
        "outputId": "129507bf-3a09-4f3f-9d23-f1446e80bbae",
        "colab": {
          "base_uri": "https://localhost:8080/",
          "height": 1000
        }
      },
      "source": [
        "ed_census = censusdata.variable_info.search('acs5', 2016, 'label', 'education', 'profile')\n",
        "df_census_ed = pd.DataFrame(ed_census)\n",
        "df_census_ed"
      ],
      "execution_count": 0,
      "outputs": [
        {
          "output_type": "execute_result",
          "data": {
            "text/html": [
              "<div>\n",
              "<style scoped>\n",
              "    .dataframe tbody tr th:only-of-type {\n",
              "        vertical-align: middle;\n",
              "    }\n",
              "\n",
              "    .dataframe tbody tr th {\n",
              "        vertical-align: top;\n",
              "    }\n",
              "\n",
              "    .dataframe thead th {\n",
              "        text-align: right;\n",
              "    }\n",
              "</style>\n",
              "<table border=\"1\" class=\"dataframe\">\n",
              "  <thead>\n",
              "    <tr style=\"text-align: right;\">\n",
              "      <th></th>\n",
              "      <th>0</th>\n",
              "      <th>1</th>\n",
              "      <th>2</th>\n",
              "    </tr>\n",
              "  </thead>\n",
              "  <tbody>\n",
              "    <tr>\n",
              "      <th>0</th>\n",
              "      <td>DP02PR_0058E</td>\n",
              "      <td>SELECTED SOCIAL CHARACTERISTICS IN PUERTO RICO</td>\n",
              "      <td>Estimate!!EDUCATIONAL ATTAINMENT!!Population 2...</td>\n",
              "    </tr>\n",
              "    <tr>\n",
              "      <th>1</th>\n",
              "      <td>DP02PR_0058PE</td>\n",
              "      <td>SELECTED SOCIAL CHARACTERISTICS IN PUERTO RICO</td>\n",
              "      <td>Percent!!EDUCATIONAL ATTAINMENT!!Population 25...</td>\n",
              "    </tr>\n",
              "    <tr>\n",
              "      <th>2</th>\n",
              "      <td>DP02PR_0059E</td>\n",
              "      <td>SELECTED SOCIAL CHARACTERISTICS IN PUERTO RICO</td>\n",
              "      <td>Estimate!!EDUCATIONAL ATTAINMENT!!Population 2...</td>\n",
              "    </tr>\n",
              "    <tr>\n",
              "      <th>3</th>\n",
              "      <td>DP02PR_0059PE</td>\n",
              "      <td>SELECTED SOCIAL CHARACTERISTICS IN PUERTO RICO</td>\n",
              "      <td>Percent!!EDUCATIONAL ATTAINMENT!!Population 25...</td>\n",
              "    </tr>\n",
              "    <tr>\n",
              "      <th>4</th>\n",
              "      <td>DP02PR_0060E</td>\n",
              "      <td>SELECTED SOCIAL CHARACTERISTICS IN PUERTO RICO</td>\n",
              "      <td>Estimate!!EDUCATIONAL ATTAINMENT!!Population 2...</td>\n",
              "    </tr>\n",
              "    <tr>\n",
              "      <th>5</th>\n",
              "      <td>DP02PR_0060PE</td>\n",
              "      <td>SELECTED SOCIAL CHARACTERISTICS IN PUERTO RICO</td>\n",
              "      <td>Percent!!EDUCATIONAL ATTAINMENT!!Population 25...</td>\n",
              "    </tr>\n",
              "    <tr>\n",
              "      <th>6</th>\n",
              "      <td>DP02PR_0061E</td>\n",
              "      <td>SELECTED SOCIAL CHARACTERISTICS IN PUERTO RICO</td>\n",
              "      <td>Estimate!!EDUCATIONAL ATTAINMENT!!Population 2...</td>\n",
              "    </tr>\n",
              "    <tr>\n",
              "      <th>7</th>\n",
              "      <td>DP02PR_0061PE</td>\n",
              "      <td>SELECTED SOCIAL CHARACTERISTICS IN PUERTO RICO</td>\n",
              "      <td>Percent!!EDUCATIONAL ATTAINMENT!!Population 25...</td>\n",
              "    </tr>\n",
              "    <tr>\n",
              "      <th>8</th>\n",
              "      <td>DP02PR_0062E</td>\n",
              "      <td>SELECTED SOCIAL CHARACTERISTICS IN PUERTO RICO</td>\n",
              "      <td>Estimate!!EDUCATIONAL ATTAINMENT!!Population 2...</td>\n",
              "    </tr>\n",
              "    <tr>\n",
              "      <th>9</th>\n",
              "      <td>DP02PR_0062PE</td>\n",
              "      <td>SELECTED SOCIAL CHARACTERISTICS IN PUERTO RICO</td>\n",
              "      <td>Percent!!EDUCATIONAL ATTAINMENT!!Population 25...</td>\n",
              "    </tr>\n",
              "    <tr>\n",
              "      <th>10</th>\n",
              "      <td>DP02PR_0063E</td>\n",
              "      <td>SELECTED SOCIAL CHARACTERISTICS IN PUERTO RICO</td>\n",
              "      <td>Estimate!!EDUCATIONAL ATTAINMENT!!Population 2...</td>\n",
              "    </tr>\n",
              "    <tr>\n",
              "      <th>11</th>\n",
              "      <td>DP02PR_0063PE</td>\n",
              "      <td>SELECTED SOCIAL CHARACTERISTICS IN PUERTO RICO</td>\n",
              "      <td>Percent!!EDUCATIONAL ATTAINMENT!!Population 25...</td>\n",
              "    </tr>\n",
              "    <tr>\n",
              "      <th>12</th>\n",
              "      <td>DP02PR_0064E</td>\n",
              "      <td>SELECTED SOCIAL CHARACTERISTICS IN PUERTO RICO</td>\n",
              "      <td>Estimate!!EDUCATIONAL ATTAINMENT!!Population 2...</td>\n",
              "    </tr>\n",
              "    <tr>\n",
              "      <th>13</th>\n",
              "      <td>DP02PR_0064PE</td>\n",
              "      <td>SELECTED SOCIAL CHARACTERISTICS IN PUERTO RICO</td>\n",
              "      <td>Percent!!EDUCATIONAL ATTAINMENT!!Population 25...</td>\n",
              "    </tr>\n",
              "    <tr>\n",
              "      <th>14</th>\n",
              "      <td>DP02PR_0065E</td>\n",
              "      <td>SELECTED SOCIAL CHARACTERISTICS IN PUERTO RICO</td>\n",
              "      <td>Estimate!!EDUCATIONAL ATTAINMENT!!Population 2...</td>\n",
              "    </tr>\n",
              "    <tr>\n",
              "      <th>15</th>\n",
              "      <td>DP02PR_0065PE</td>\n",
              "      <td>SELECTED SOCIAL CHARACTERISTICS IN PUERTO RICO</td>\n",
              "      <td>Percent!!EDUCATIONAL ATTAINMENT!!Population 25...</td>\n",
              "    </tr>\n",
              "    <tr>\n",
              "      <th>16</th>\n",
              "      <td>DP02PR_0066E</td>\n",
              "      <td>SELECTED SOCIAL CHARACTERISTICS IN PUERTO RICO</td>\n",
              "      <td>Estimate!!EDUCATIONAL ATTAINMENT!!Percent high...</td>\n",
              "    </tr>\n",
              "    <tr>\n",
              "      <th>17</th>\n",
              "      <td>DP02PR_0066PE</td>\n",
              "      <td>SELECTED SOCIAL CHARACTERISTICS IN PUERTO RICO</td>\n",
              "      <td>Percent!!EDUCATIONAL ATTAINMENT!!Percent high ...</td>\n",
              "    </tr>\n",
              "    <tr>\n",
              "      <th>18</th>\n",
              "      <td>DP02PR_0067E</td>\n",
              "      <td>SELECTED SOCIAL CHARACTERISTICS IN PUERTO RICO</td>\n",
              "      <td>Estimate!!EDUCATIONAL ATTAINMENT!!Percent bach...</td>\n",
              "    </tr>\n",
              "    <tr>\n",
              "      <th>19</th>\n",
              "      <td>DP02PR_0067PE</td>\n",
              "      <td>SELECTED SOCIAL CHARACTERISTICS IN PUERTO RICO</td>\n",
              "      <td>Percent!!EDUCATIONAL ATTAINMENT!!Percent bache...</td>\n",
              "    </tr>\n",
              "    <tr>\n",
              "      <th>20</th>\n",
              "      <td>DP02_0058E</td>\n",
              "      <td>SELECTED SOCIAL CHARACTERISTICS IN THE UNITED ...</td>\n",
              "      <td>Estimate!!EDUCATIONAL ATTAINMENT!!Population 2...</td>\n",
              "    </tr>\n",
              "    <tr>\n",
              "      <th>21</th>\n",
              "      <td>DP02_0058PE</td>\n",
              "      <td>SELECTED SOCIAL CHARACTERISTICS IN THE UNITED ...</td>\n",
              "      <td>Percent!!EDUCATIONAL ATTAINMENT!!Population 25...</td>\n",
              "    </tr>\n",
              "    <tr>\n",
              "      <th>22</th>\n",
              "      <td>DP02_0059E</td>\n",
              "      <td>SELECTED SOCIAL CHARACTERISTICS IN THE UNITED ...</td>\n",
              "      <td>Estimate!!EDUCATIONAL ATTAINMENT!!Population 2...</td>\n",
              "    </tr>\n",
              "    <tr>\n",
              "      <th>23</th>\n",
              "      <td>DP02_0059PE</td>\n",
              "      <td>SELECTED SOCIAL CHARACTERISTICS IN THE UNITED ...</td>\n",
              "      <td>Percent!!EDUCATIONAL ATTAINMENT!!Population 25...</td>\n",
              "    </tr>\n",
              "    <tr>\n",
              "      <th>24</th>\n",
              "      <td>DP02_0060E</td>\n",
              "      <td>SELECTED SOCIAL CHARACTERISTICS IN THE UNITED ...</td>\n",
              "      <td>Estimate!!EDUCATIONAL ATTAINMENT!!Population 2...</td>\n",
              "    </tr>\n",
              "    <tr>\n",
              "      <th>25</th>\n",
              "      <td>DP02_0060PE</td>\n",
              "      <td>SELECTED SOCIAL CHARACTERISTICS IN THE UNITED ...</td>\n",
              "      <td>Percent!!EDUCATIONAL ATTAINMENT!!Population 25...</td>\n",
              "    </tr>\n",
              "    <tr>\n",
              "      <th>26</th>\n",
              "      <td>DP02_0061E</td>\n",
              "      <td>SELECTED SOCIAL CHARACTERISTICS IN THE UNITED ...</td>\n",
              "      <td>Estimate!!EDUCATIONAL ATTAINMENT!!Population 2...</td>\n",
              "    </tr>\n",
              "    <tr>\n",
              "      <th>27</th>\n",
              "      <td>DP02_0061PE</td>\n",
              "      <td>SELECTED SOCIAL CHARACTERISTICS IN THE UNITED ...</td>\n",
              "      <td>Percent!!EDUCATIONAL ATTAINMENT!!Population 25...</td>\n",
              "    </tr>\n",
              "    <tr>\n",
              "      <th>28</th>\n",
              "      <td>DP02_0062E</td>\n",
              "      <td>SELECTED SOCIAL CHARACTERISTICS IN THE UNITED ...</td>\n",
              "      <td>Estimate!!EDUCATIONAL ATTAINMENT!!Population 2...</td>\n",
              "    </tr>\n",
              "    <tr>\n",
              "      <th>29</th>\n",
              "      <td>DP02_0062PE</td>\n",
              "      <td>SELECTED SOCIAL CHARACTERISTICS IN THE UNITED ...</td>\n",
              "      <td>Percent!!EDUCATIONAL ATTAINMENT!!Population 25...</td>\n",
              "    </tr>\n",
              "    <tr>\n",
              "      <th>30</th>\n",
              "      <td>DP02_0063E</td>\n",
              "      <td>SELECTED SOCIAL CHARACTERISTICS IN THE UNITED ...</td>\n",
              "      <td>Estimate!!EDUCATIONAL ATTAINMENT!!Population 2...</td>\n",
              "    </tr>\n",
              "    <tr>\n",
              "      <th>31</th>\n",
              "      <td>DP02_0063PE</td>\n",
              "      <td>SELECTED SOCIAL CHARACTERISTICS IN THE UNITED ...</td>\n",
              "      <td>Percent!!EDUCATIONAL ATTAINMENT!!Population 25...</td>\n",
              "    </tr>\n",
              "    <tr>\n",
              "      <th>32</th>\n",
              "      <td>DP02_0064E</td>\n",
              "      <td>SELECTED SOCIAL CHARACTERISTICS IN THE UNITED ...</td>\n",
              "      <td>Estimate!!EDUCATIONAL ATTAINMENT!!Population 2...</td>\n",
              "    </tr>\n",
              "    <tr>\n",
              "      <th>33</th>\n",
              "      <td>DP02_0064PE</td>\n",
              "      <td>SELECTED SOCIAL CHARACTERISTICS IN THE UNITED ...</td>\n",
              "      <td>Percent!!EDUCATIONAL ATTAINMENT!!Population 25...</td>\n",
              "    </tr>\n",
              "    <tr>\n",
              "      <th>34</th>\n",
              "      <td>DP02_0065E</td>\n",
              "      <td>SELECTED SOCIAL CHARACTERISTICS IN THE UNITED ...</td>\n",
              "      <td>Estimate!!EDUCATIONAL ATTAINMENT!!Population 2...</td>\n",
              "    </tr>\n",
              "    <tr>\n",
              "      <th>35</th>\n",
              "      <td>DP02_0065PE</td>\n",
              "      <td>SELECTED SOCIAL CHARACTERISTICS IN THE UNITED ...</td>\n",
              "      <td>Percent!!EDUCATIONAL ATTAINMENT!!Population 25...</td>\n",
              "    </tr>\n",
              "    <tr>\n",
              "      <th>36</th>\n",
              "      <td>DP02_0066E</td>\n",
              "      <td>SELECTED SOCIAL CHARACTERISTICS IN THE UNITED ...</td>\n",
              "      <td>Estimate!!EDUCATIONAL ATTAINMENT!!Percent high...</td>\n",
              "    </tr>\n",
              "    <tr>\n",
              "      <th>37</th>\n",
              "      <td>DP02_0066PE</td>\n",
              "      <td>SELECTED SOCIAL CHARACTERISTICS IN THE UNITED ...</td>\n",
              "      <td>Percent!!EDUCATIONAL ATTAINMENT!!Percent high ...</td>\n",
              "    </tr>\n",
              "    <tr>\n",
              "      <th>38</th>\n",
              "      <td>DP02_0067E</td>\n",
              "      <td>SELECTED SOCIAL CHARACTERISTICS IN THE UNITED ...</td>\n",
              "      <td>Estimate!!EDUCATIONAL ATTAINMENT!!Percent bach...</td>\n",
              "    </tr>\n",
              "    <tr>\n",
              "      <th>39</th>\n",
              "      <td>DP02_0067PE</td>\n",
              "      <td>SELECTED SOCIAL CHARACTERISTICS IN THE UNITED ...</td>\n",
              "      <td>Percent!!EDUCATIONAL ATTAINMENT!!Percent bache...</td>\n",
              "    </tr>\n",
              "    <tr>\n",
              "      <th>40</th>\n",
              "      <td>DP03_0042E</td>\n",
              "      <td>SELECTED ECONOMIC CHARACTERISTICS</td>\n",
              "      <td>Estimate!!INDUSTRY!!Civilian employed populati...</td>\n",
              "    </tr>\n",
              "    <tr>\n",
              "      <th>41</th>\n",
              "      <td>DP03_0042PE</td>\n",
              "      <td>SELECTED ECONOMIC CHARACTERISTICS</td>\n",
              "      <td>Percent!!INDUSTRY!!Civilian employed populatio...</td>\n",
              "    </tr>\n",
              "  </tbody>\n",
              "</table>\n",
              "</div>"
            ],
            "text/plain": [
              "                0  ...                                                  2\n",
              "0    DP02PR_0058E  ...  Estimate!!EDUCATIONAL ATTAINMENT!!Population 2...\n",
              "1   DP02PR_0058PE  ...  Percent!!EDUCATIONAL ATTAINMENT!!Population 25...\n",
              "2    DP02PR_0059E  ...  Estimate!!EDUCATIONAL ATTAINMENT!!Population 2...\n",
              "3   DP02PR_0059PE  ...  Percent!!EDUCATIONAL ATTAINMENT!!Population 25...\n",
              "4    DP02PR_0060E  ...  Estimate!!EDUCATIONAL ATTAINMENT!!Population 2...\n",
              "5   DP02PR_0060PE  ...  Percent!!EDUCATIONAL ATTAINMENT!!Population 25...\n",
              "6    DP02PR_0061E  ...  Estimate!!EDUCATIONAL ATTAINMENT!!Population 2...\n",
              "7   DP02PR_0061PE  ...  Percent!!EDUCATIONAL ATTAINMENT!!Population 25...\n",
              "8    DP02PR_0062E  ...  Estimate!!EDUCATIONAL ATTAINMENT!!Population 2...\n",
              "9   DP02PR_0062PE  ...  Percent!!EDUCATIONAL ATTAINMENT!!Population 25...\n",
              "10   DP02PR_0063E  ...  Estimate!!EDUCATIONAL ATTAINMENT!!Population 2...\n",
              "11  DP02PR_0063PE  ...  Percent!!EDUCATIONAL ATTAINMENT!!Population 25...\n",
              "12   DP02PR_0064E  ...  Estimate!!EDUCATIONAL ATTAINMENT!!Population 2...\n",
              "13  DP02PR_0064PE  ...  Percent!!EDUCATIONAL ATTAINMENT!!Population 25...\n",
              "14   DP02PR_0065E  ...  Estimate!!EDUCATIONAL ATTAINMENT!!Population 2...\n",
              "15  DP02PR_0065PE  ...  Percent!!EDUCATIONAL ATTAINMENT!!Population 25...\n",
              "16   DP02PR_0066E  ...  Estimate!!EDUCATIONAL ATTAINMENT!!Percent high...\n",
              "17  DP02PR_0066PE  ...  Percent!!EDUCATIONAL ATTAINMENT!!Percent high ...\n",
              "18   DP02PR_0067E  ...  Estimate!!EDUCATIONAL ATTAINMENT!!Percent bach...\n",
              "19  DP02PR_0067PE  ...  Percent!!EDUCATIONAL ATTAINMENT!!Percent bache...\n",
              "20     DP02_0058E  ...  Estimate!!EDUCATIONAL ATTAINMENT!!Population 2...\n",
              "21    DP02_0058PE  ...  Percent!!EDUCATIONAL ATTAINMENT!!Population 25...\n",
              "22     DP02_0059E  ...  Estimate!!EDUCATIONAL ATTAINMENT!!Population 2...\n",
              "23    DP02_0059PE  ...  Percent!!EDUCATIONAL ATTAINMENT!!Population 25...\n",
              "24     DP02_0060E  ...  Estimate!!EDUCATIONAL ATTAINMENT!!Population 2...\n",
              "25    DP02_0060PE  ...  Percent!!EDUCATIONAL ATTAINMENT!!Population 25...\n",
              "26     DP02_0061E  ...  Estimate!!EDUCATIONAL ATTAINMENT!!Population 2...\n",
              "27    DP02_0061PE  ...  Percent!!EDUCATIONAL ATTAINMENT!!Population 25...\n",
              "28     DP02_0062E  ...  Estimate!!EDUCATIONAL ATTAINMENT!!Population 2...\n",
              "29    DP02_0062PE  ...  Percent!!EDUCATIONAL ATTAINMENT!!Population 25...\n",
              "30     DP02_0063E  ...  Estimate!!EDUCATIONAL ATTAINMENT!!Population 2...\n",
              "31    DP02_0063PE  ...  Percent!!EDUCATIONAL ATTAINMENT!!Population 25...\n",
              "32     DP02_0064E  ...  Estimate!!EDUCATIONAL ATTAINMENT!!Population 2...\n",
              "33    DP02_0064PE  ...  Percent!!EDUCATIONAL ATTAINMENT!!Population 25...\n",
              "34     DP02_0065E  ...  Estimate!!EDUCATIONAL ATTAINMENT!!Population 2...\n",
              "35    DP02_0065PE  ...  Percent!!EDUCATIONAL ATTAINMENT!!Population 25...\n",
              "36     DP02_0066E  ...  Estimate!!EDUCATIONAL ATTAINMENT!!Percent high...\n",
              "37    DP02_0066PE  ...  Percent!!EDUCATIONAL ATTAINMENT!!Percent high ...\n",
              "38     DP02_0067E  ...  Estimate!!EDUCATIONAL ATTAINMENT!!Percent bach...\n",
              "39    DP02_0067PE  ...  Percent!!EDUCATIONAL ATTAINMENT!!Percent bache...\n",
              "40     DP03_0042E  ...  Estimate!!INDUSTRY!!Civilian employed populati...\n",
              "41    DP03_0042PE  ...  Percent!!INDUSTRY!!Civilian employed populatio...\n",
              "\n",
              "[42 rows x 3 columns]"
            ]
          },
          "metadata": {
            "tags": []
          },
          "execution_count": 190
        }
      ]
    },
    {
      "cell_type": "code",
      "metadata": {
        "id": "hZyKY_YJrnty",
        "colab_type": "code",
        "colab": {}
      },
      "source": [
        "## import pandas\n",
        "##import pandas as pd\n",
        "\n",
        "## create an empty DataFrame to store results in\n",
        "df_education = pd.DataFrame()\n",
        "\n",
        "## calculate the average %white for each tract\n",
        "for county_id in austin_counties:\n",
        "  county_education_profile = censusdata.download('acs5', 2016,\n",
        "                    censusdata.censusgeo([('state', '48'), ('county', county_id), ('tract', '*')]), \n",
        "                    ['DP02_0067PE'], tabletype = 'profile') \n",
        "  ## FL: Once I specified the 'profile', I was able to find %bachelors or higher\n",
        "  ## FL: but when I try to access the estimate of people with %bach or higher,\n",
        "  ## i get a really weird variable \n",
        "  \n",
        "  ## this adds the downloaded Census data to single data frame\n",
        "  df_education = df_education.append(county_education_profile)"
      ],
      "execution_count": 0,
      "outputs": []
    },
    {
      "cell_type": "code",
      "metadata": {
        "id": "AeTH9BhTwkcd",
        "colab_type": "code",
        "outputId": "ea40f72f-8d63-45e8-b59f-f2589b3258ee",
        "colab": {
          "base_uri": "https://localhost:8080/",
          "height": 419
        }
      },
      "source": [
        "df_education "
      ],
      "execution_count": 0,
      "outputs": [
        {
          "output_type": "execute_result",
          "data": {
            "text/html": [
              "<div>\n",
              "<style scoped>\n",
              "    .dataframe tbody tr th:only-of-type {\n",
              "        vertical-align: middle;\n",
              "    }\n",
              "\n",
              "    .dataframe tbody tr th {\n",
              "        vertical-align: top;\n",
              "    }\n",
              "\n",
              "    .dataframe thead th {\n",
              "        text-align: right;\n",
              "    }\n",
              "</style>\n",
              "<table border=\"1\" class=\"dataframe\">\n",
              "  <thead>\n",
              "    <tr style=\"text-align: right;\">\n",
              "      <th></th>\n",
              "      <th>DP02_0067PE</th>\n",
              "    </tr>\n",
              "  </thead>\n",
              "  <tbody>\n",
              "    <tr>\n",
              "      <th>Census Tract 9501, Bastrop County, Texas: Summary level: 140, state:48&gt; county:021&gt; tract:950100</th>\n",
              "      <td>18.6</td>\n",
              "    </tr>\n",
              "    <tr>\n",
              "      <th>Census Tract 9502, Bastrop County, Texas: Summary level: 140, state:48&gt; county:021&gt; tract:950200</th>\n",
              "      <td>12.8</td>\n",
              "    </tr>\n",
              "    <tr>\n",
              "      <th>Census Tract 9503, Bastrop County, Texas: Summary level: 140, state:48&gt; county:021&gt; tract:950300</th>\n",
              "      <td>29.9</td>\n",
              "    </tr>\n",
              "    <tr>\n",
              "      <th>Census Tract 9504, Bastrop County, Texas: Summary level: 140, state:48&gt; county:021&gt; tract:950400</th>\n",
              "      <td>23.4</td>\n",
              "    </tr>\n",
              "    <tr>\n",
              "      <th>Census Tract 9505.01, Bastrop County, Texas: Summary level: 140, state:48&gt; county:021&gt; tract:950501</th>\n",
              "      <td>9.5</td>\n",
              "    </tr>\n",
              "    <tr>\n",
              "      <th>...</th>\n",
              "      <td>...</td>\n",
              "    </tr>\n",
              "    <tr>\n",
              "      <th>Census Tract 209, Williamson County, Texas: Summary level: 140, state:48&gt; county:491&gt; tract:020900</th>\n",
              "      <td>18.0</td>\n",
              "    </tr>\n",
              "    <tr>\n",
              "      <th>Census Tract 210, Williamson County, Texas: Summary level: 140, state:48&gt; county:491&gt; tract:021000</th>\n",
              "      <td>3.9</td>\n",
              "    </tr>\n",
              "    <tr>\n",
              "      <th>Census Tract 211, Williamson County, Texas: Summary level: 140, state:48&gt; county:491&gt; tract:021100</th>\n",
              "      <td>6.9</td>\n",
              "    </tr>\n",
              "    <tr>\n",
              "      <th>Census Tract 212.01, Williamson County, Texas: Summary level: 140, state:48&gt; county:491&gt; tract:021201</th>\n",
              "      <td>19.4</td>\n",
              "    </tr>\n",
              "    <tr>\n",
              "      <th>Census Tract 212.02, Williamson County, Texas: Summary level: 140, state:48&gt; county:491&gt; tract:021202</th>\n",
              "      <td>25.1</td>\n",
              "    </tr>\n",
              "  </tbody>\n",
              "</table>\n",
              "<p>350 rows × 1 columns</p>\n",
              "</div>"
            ],
            "text/plain": [
              "                                                    DP02_0067PE\n",
              "Census Tract 9501, Bastrop County, Texas: Summa...         18.6\n",
              "Census Tract 9502, Bastrop County, Texas: Summa...         12.8\n",
              "Census Tract 9503, Bastrop County, Texas: Summa...         29.9\n",
              "Census Tract 9504, Bastrop County, Texas: Summa...         23.4\n",
              "Census Tract 9505.01, Bastrop County, Texas: Su...          9.5\n",
              "...                                                         ...\n",
              "Census Tract 209, Williamson County, Texas: Sum...         18.0\n",
              "Census Tract 210, Williamson County, Texas: Sum...          3.9\n",
              "Census Tract 211, Williamson County, Texas: Sum...          6.9\n",
              "Census Tract 212.01, Williamson County, Texas: ...         19.4\n",
              "Census Tract 212.02, Williamson County, Texas: ...         25.1\n",
              "\n",
              "[350 rows x 1 columns]"
            ]
          },
          "metadata": {
            "tags": []
          },
          "execution_count": 192
        }
      ]
    },
    {
      "cell_type": "code",
      "metadata": {
        "id": "RoUqieovB8QE",
        "colab_type": "code",
        "colab": {}
      },
      "source": [
        "## filter out < 0\n",
        "df_education = df_education[df_education['DP02_0067PE'] > 0]"
      ],
      "execution_count": 0,
      "outputs": []
    },
    {
      "cell_type": "code",
      "metadata": {
        "id": "eaDyLsmLAnbv",
        "colab_type": "code",
        "outputId": "6fe675e3-bf1d-4340-ca59-914813b613b7",
        "colab": {
          "base_uri": "https://localhost:8080/",
          "height": 297
        }
      },
      "source": [
        "df_education.describe()"
      ],
      "execution_count": 0,
      "outputs": [
        {
          "output_type": "execute_result",
          "data": {
            "text/html": [
              "<div>\n",
              "<style scoped>\n",
              "    .dataframe tbody tr th:only-of-type {\n",
              "        vertical-align: middle;\n",
              "    }\n",
              "\n",
              "    .dataframe tbody tr th {\n",
              "        vertical-align: top;\n",
              "    }\n",
              "\n",
              "    .dataframe thead th {\n",
              "        text-align: right;\n",
              "    }\n",
              "</style>\n",
              "<table border=\"1\" class=\"dataframe\">\n",
              "  <thead>\n",
              "    <tr style=\"text-align: right;\">\n",
              "      <th></th>\n",
              "      <th>DP02_0067PE</th>\n",
              "    </tr>\n",
              "  </thead>\n",
              "  <tbody>\n",
              "    <tr>\n",
              "      <th>count</th>\n",
              "      <td>348.000000</td>\n",
              "    </tr>\n",
              "    <tr>\n",
              "      <th>mean</th>\n",
              "      <td>41.895690</td>\n",
              "    </tr>\n",
              "    <tr>\n",
              "      <th>std</th>\n",
              "      <td>21.131427</td>\n",
              "    </tr>\n",
              "    <tr>\n",
              "      <th>min</th>\n",
              "      <td>3.900000</td>\n",
              "    </tr>\n",
              "    <tr>\n",
              "      <th>25%</th>\n",
              "      <td>23.500000</td>\n",
              "    </tr>\n",
              "    <tr>\n",
              "      <th>50%</th>\n",
              "      <td>40.300000</td>\n",
              "    </tr>\n",
              "    <tr>\n",
              "      <th>75%</th>\n",
              "      <td>58.050000</td>\n",
              "    </tr>\n",
              "    <tr>\n",
              "      <th>max</th>\n",
              "      <td>91.700000</td>\n",
              "    </tr>\n",
              "  </tbody>\n",
              "</table>\n",
              "</div>"
            ],
            "text/plain": [
              "       DP02_0067PE\n",
              "count   348.000000\n",
              "mean     41.895690\n",
              "std      21.131427\n",
              "min       3.900000\n",
              "25%      23.500000\n",
              "50%      40.300000\n",
              "75%      58.050000\n",
              "max      91.700000"
            ]
          },
          "metadata": {
            "tags": []
          },
          "execution_count": 195
        }
      ]
    },
    {
      "cell_type": "code",
      "metadata": {
        "id": "H0SqF7jSoyiO",
        "colab_type": "code",
        "colab": {}
      },
      "source": [
        "## get the tract\n",
        "df_education = df_education.reset_index()\n",
        "df_education['TRACTCE'] = df_education['index'].apply(lambda x: x.request()['for'].split('tract:')[1])"
      ],
      "execution_count": 0,
      "outputs": []
    },
    {
      "cell_type": "code",
      "metadata": {
        "id": "DznVLz_bpkCC",
        "colab_type": "code",
        "outputId": "34dc0372-2320-49e3-86c2-5737368340aa",
        "colab": {
          "base_uri": "https://localhost:8080/",
          "height": 119
        }
      },
      "source": [
        "df_education['TRACTCE'].head()"
      ],
      "execution_count": 0,
      "outputs": [
        {
          "output_type": "execute_result",
          "data": {
            "text/plain": [
              "0    950100\n",
              "1    950200\n",
              "2    950300\n",
              "3    950400\n",
              "4    950501\n",
              "Name: TRACTCE, dtype: object"
            ]
          },
          "metadata": {
            "tags": []
          },
          "execution_count": 198
        }
      ]
    },
    {
      "cell_type": "code",
      "metadata": {
        "id": "d7LbJNPjpuiW",
        "colab_type": "code",
        "colab": {}
      },
      "source": [
        "## get the county by getting the last three characters in the index string\n",
        "df_education['COUNTYFP'] = df_education['index'].apply(lambda x: x.request()['in'][-3:])"
      ],
      "execution_count": 0,
      "outputs": []
    },
    {
      "cell_type": "code",
      "metadata": {
        "id": "7TEG_Irmp2JL",
        "colab_type": "code",
        "outputId": "4e477195-d164-4a99-9f60-7d91312604c9",
        "colab": {
          "base_uri": "https://localhost:8080/",
          "height": 221
        }
      },
      "source": [
        "df_education['COUNTYFP']"
      ],
      "execution_count": 0,
      "outputs": [
        {
          "output_type": "execute_result",
          "data": {
            "text/plain": [
              "0      021\n",
              "1      021\n",
              "2      021\n",
              "3      021\n",
              "4      021\n",
              "      ... \n",
              "343    491\n",
              "344    491\n",
              "345    491\n",
              "346    491\n",
              "347    491\n",
              "Name: COUNTYFP, Length: 348, dtype: object"
            ]
          },
          "metadata": {
            "tags": []
          },
          "execution_count": 200
        }
      ]
    },
    {
      "cell_type": "code",
      "metadata": {
        "id": "ynUGcauyBGnG",
        "colab_type": "code",
        "outputId": "f87e1365-6775-4cb0-dd9c-31d3c9a91fc7",
        "colab": {
          "base_uri": "https://localhost:8080/",
          "height": 204
        }
      },
      "source": [
        "df_education.head()"
      ],
      "execution_count": 0,
      "outputs": [
        {
          "output_type": "execute_result",
          "data": {
            "text/html": [
              "<div>\n",
              "<style scoped>\n",
              "    .dataframe tbody tr th:only-of-type {\n",
              "        vertical-align: middle;\n",
              "    }\n",
              "\n",
              "    .dataframe tbody tr th {\n",
              "        vertical-align: top;\n",
              "    }\n",
              "\n",
              "    .dataframe thead th {\n",
              "        text-align: right;\n",
              "    }\n",
              "</style>\n",
              "<table border=\"1\" class=\"dataframe\">\n",
              "  <thead>\n",
              "    <tr style=\"text-align: right;\">\n",
              "      <th></th>\n",
              "      <th>index</th>\n",
              "      <th>DP02_0067PE</th>\n",
              "      <th>TRACTCE</th>\n",
              "      <th>COUNTYFP</th>\n",
              "    </tr>\n",
              "  </thead>\n",
              "  <tbody>\n",
              "    <tr>\n",
              "      <th>0</th>\n",
              "      <td>Census Tract 9501, Bastrop County, Texas: Summ...</td>\n",
              "      <td>18.6</td>\n",
              "      <td>950100</td>\n",
              "      <td>021</td>\n",
              "    </tr>\n",
              "    <tr>\n",
              "      <th>1</th>\n",
              "      <td>Census Tract 9502, Bastrop County, Texas: Summ...</td>\n",
              "      <td>12.8</td>\n",
              "      <td>950200</td>\n",
              "      <td>021</td>\n",
              "    </tr>\n",
              "    <tr>\n",
              "      <th>2</th>\n",
              "      <td>Census Tract 9503, Bastrop County, Texas: Summ...</td>\n",
              "      <td>29.9</td>\n",
              "      <td>950300</td>\n",
              "      <td>021</td>\n",
              "    </tr>\n",
              "    <tr>\n",
              "      <th>3</th>\n",
              "      <td>Census Tract 9504, Bastrop County, Texas: Summ...</td>\n",
              "      <td>23.4</td>\n",
              "      <td>950400</td>\n",
              "      <td>021</td>\n",
              "    </tr>\n",
              "    <tr>\n",
              "      <th>4</th>\n",
              "      <td>Census Tract 9505.01, Bastrop County, Texas: S...</td>\n",
              "      <td>9.5</td>\n",
              "      <td>950501</td>\n",
              "      <td>021</td>\n",
              "    </tr>\n",
              "  </tbody>\n",
              "</table>\n",
              "</div>"
            ],
            "text/plain": [
              "                                               index  ...  COUNTYFP\n",
              "0  Census Tract 9501, Bastrop County, Texas: Summ...  ...       021\n",
              "1  Census Tract 9502, Bastrop County, Texas: Summ...  ...       021\n",
              "2  Census Tract 9503, Bastrop County, Texas: Summ...  ...       021\n",
              "3  Census Tract 9504, Bastrop County, Texas: Summ...  ...       021\n",
              "4  Census Tract 9505.01, Bastrop County, Texas: S...  ...       021\n",
              "\n",
              "[5 rows x 4 columns]"
            ]
          },
          "metadata": {
            "tags": []
          },
          "execution_count": 201
        }
      ]
    },
    {
      "cell_type": "code",
      "metadata": {
        "id": "FRK0jvMitx9G",
        "colab_type": "code",
        "colab": {}
      },
      "source": [
        "## From detail:\n",
        "## \"B15003_001E\": \"EDUCATIONAL ATTAINMENT FOR THE POPULATION 25 YEARS AND OVER\",\n",
        "\n",
        "\n",
        "## From profile: \n",
        "## \"DP02_0067E\": \"Estimate!!EDUCATIONAL ATTAINMENT!!Percent bachelor's degree or higher\"\n",
        "\n",
        "## \"DP02_0067PE\": \"Percent!!EDUCATIONAL ATTAINMENT!!Percent bachelor's degree or higher\"\n",
        "\n",
        "## \"DP02_0135E\": \"Estimate!!ANCESTRY!!Total population!!Italian\",\n",
        "    "
      ],
      "execution_count": 0,
      "outputs": []
    },
    {
      "cell_type": "markdown",
      "metadata": {
        "id": "diG48q9b2ULU",
        "colab_type": "text"
      },
      "source": [
        "## Mapping"
      ]
    },
    {
      "cell_type": "code",
      "metadata": {
        "id": "w-xgwQJx2VyB",
        "colab_type": "code",
        "colab": {}
      },
      "source": [
        "import os\n",
        "import matplotlib.pyplot as plt"
      ],
      "execution_count": 0,
      "outputs": []
    },
    {
      "cell_type": "code",
      "metadata": {
        "id": "QQ2i2Rdx54Zy",
        "colab_type": "code",
        "colab": {}
      },
      "source": [
        "import geopandas as gpd"
      ],
      "execution_count": 0,
      "outputs": []
    },
    {
      "cell_type": "code",
      "metadata": {
        "id": "kxi6h-vel0sr",
        "colab_type": "code",
        "outputId": "103097df-bf6e-4220-af7f-ee89a358e56b",
        "colab": {
          "base_uri": "https://localhost:8080/",
          "height": 54
        }
      },
      "source": [
        "from google.colab import drive\n",
        "drive.mount('/content/gdrive')"
      ],
      "execution_count": 0,
      "outputs": [
        {
          "output_type": "stream",
          "text": [
            "Drive already mounted at /content/gdrive; to attempt to forcibly remount, call drive.mount(\"/content/gdrive\", force_remount=True).\n"
          ],
          "name": "stdout"
        }
      ]
    },
    {
      "cell_type": "code",
      "metadata": {
        "id": "hujsAkyJ65Xy",
        "colab_type": "code",
        "colab": {}
      },
      "source": [
        "## load the shapefile\n",
        "drive_url = '/content/gdrive/My Drive/tl_2016_48_tract/tl_2016_48_tract.shp'\n",
        "tx_locations = gpd.read_file(drive_url)"
      ],
      "execution_count": 0,
      "outputs": []
    },
    {
      "cell_type": "code",
      "metadata": {
        "id": "YHqJFFS4EdK9",
        "colab_type": "code",
        "colab": {}
      },
      "source": [
        "## restrict to Austin counties\n",
        "austin_locations = tx_locations[tx_locations.COUNTYFP.isin(austin_counties)]"
      ],
      "execution_count": 0,
      "outputs": []
    },
    {
      "cell_type": "code",
      "metadata": {
        "id": "0BwlOz70EzfP",
        "colab_type": "code",
        "outputId": "b82f4623-225d-4cad-dede-b3f3c81e8240",
        "colab": {
          "base_uri": "https://localhost:8080/",
          "height": 564
        }
      },
      "source": [
        "austin_locations.head()"
      ],
      "execution_count": 0,
      "outputs": [
        {
          "output_type": "execute_result",
          "data": {
            "text/html": [
              "<div>\n",
              "<style scoped>\n",
              "    .dataframe tbody tr th:only-of-type {\n",
              "        vertical-align: middle;\n",
              "    }\n",
              "\n",
              "    .dataframe tbody tr th {\n",
              "        vertical-align: top;\n",
              "    }\n",
              "\n",
              "    .dataframe thead th {\n",
              "        text-align: right;\n",
              "    }\n",
              "</style>\n",
              "<table border=\"1\" class=\"dataframe\">\n",
              "  <thead>\n",
              "    <tr style=\"text-align: right;\">\n",
              "      <th></th>\n",
              "      <th>STATEFP</th>\n",
              "      <th>COUNTYFP</th>\n",
              "      <th>TRACTCE</th>\n",
              "      <th>GEOID</th>\n",
              "      <th>NAME</th>\n",
              "      <th>NAMELSAD</th>\n",
              "      <th>MTFCC</th>\n",
              "      <th>FUNCSTAT</th>\n",
              "      <th>ALAND</th>\n",
              "      <th>AWATER</th>\n",
              "      <th>INTPTLAT</th>\n",
              "      <th>INTPTLON</th>\n",
              "      <th>geometry</th>\n",
              "    </tr>\n",
              "  </thead>\n",
              "  <tbody>\n",
              "    <tr>\n",
              "      <th>147</th>\n",
              "      <td>48</td>\n",
              "      <td>453</td>\n",
              "      <td>001603</td>\n",
              "      <td>48453001603</td>\n",
              "      <td>16.03</td>\n",
              "      <td>Census Tract 16.03</td>\n",
              "      <td>G5020</td>\n",
              "      <td>S</td>\n",
              "      <td>2559600</td>\n",
              "      <td>0</td>\n",
              "      <td>+30.2984281</td>\n",
              "      <td>-097.7564434</td>\n",
              "      <td>POLYGON ((-97.76826 30.29670, -97.76746 30.297...</td>\n",
              "    </tr>\n",
              "    <tr>\n",
              "      <th>148</th>\n",
              "      <td>48</td>\n",
              "      <td>453</td>\n",
              "      <td>001605</td>\n",
              "      <td>48453001605</td>\n",
              "      <td>16.05</td>\n",
              "      <td>Census Tract 16.05</td>\n",
              "      <td>G5020</td>\n",
              "      <td>S</td>\n",
              "      <td>1894186</td>\n",
              "      <td>0</td>\n",
              "      <td>+30.2867710</td>\n",
              "      <td>-097.7605726</td>\n",
              "      <td>POLYGON ((-97.77165 30.29125, -97.77145 30.291...</td>\n",
              "    </tr>\n",
              "    <tr>\n",
              "      <th>149</th>\n",
              "      <td>48</td>\n",
              "      <td>453</td>\n",
              "      <td>001606</td>\n",
              "      <td>48453001606</td>\n",
              "      <td>16.06</td>\n",
              "      <td>Census Tract 16.06</td>\n",
              "      <td>G5020</td>\n",
              "      <td>S</td>\n",
              "      <td>503773</td>\n",
              "      <td>0</td>\n",
              "      <td>+30.3056732</td>\n",
              "      <td>-097.7608291</td>\n",
              "      <td>POLYGON ((-97.76486 30.30556, -97.76481 30.305...</td>\n",
              "    </tr>\n",
              "    <tr>\n",
              "      <th>191</th>\n",
              "      <td>48</td>\n",
              "      <td>453</td>\n",
              "      <td>001705</td>\n",
              "      <td>48453001705</td>\n",
              "      <td>17.05</td>\n",
              "      <td>Census Tract 17.05</td>\n",
              "      <td>G5020</td>\n",
              "      <td>S</td>\n",
              "      <td>5341085</td>\n",
              "      <td>0</td>\n",
              "      <td>+30.3697168</td>\n",
              "      <td>-097.7740291</td>\n",
              "      <td>POLYGON ((-97.79135 30.35929, -97.79126 30.359...</td>\n",
              "    </tr>\n",
              "    <tr>\n",
              "      <th>192</th>\n",
              "      <td>48</td>\n",
              "      <td>453</td>\n",
              "      <td>001706</td>\n",
              "      <td>48453001706</td>\n",
              "      <td>17.06</td>\n",
              "      <td>Census Tract 17.06</td>\n",
              "      <td>G5020</td>\n",
              "      <td>S</td>\n",
              "      <td>2659131</td>\n",
              "      <td>0</td>\n",
              "      <td>+30.3825426</td>\n",
              "      <td>-097.7554827</td>\n",
              "      <td>POLYGON ((-97.77051 30.38292, -97.77049 30.383...</td>\n",
              "    </tr>\n",
              "  </tbody>\n",
              "</table>\n",
              "</div>"
            ],
            "text/plain": [
              "    STATEFP  ...                                           geometry\n",
              "147      48  ...  POLYGON ((-97.76826 30.29670, -97.76746 30.297...\n",
              "148      48  ...  POLYGON ((-97.77165 30.29125, -97.77145 30.291...\n",
              "149      48  ...  POLYGON ((-97.76486 30.30556, -97.76481 30.305...\n",
              "191      48  ...  POLYGON ((-97.79135 30.35929, -97.79126 30.359...\n",
              "192      48  ...  POLYGON ((-97.77051 30.38292, -97.77049 30.383...\n",
              "\n",
              "[5 rows x 13 columns]"
            ]
          },
          "metadata": {
            "tags": []
          },
          "execution_count": 206
        }
      ]
    },
    {
      "cell_type": "code",
      "metadata": {
        "id": "oZJVZSo2qbsg",
        "colab_type": "code",
        "colab": {}
      },
      "source": [
        "## now, merge the location dataset and the education dataset\n",
        "df_mapdata = austin_locations.merge(df_education)\n",
        "df_mapdata = df_mapdata.merge(df_white)"
      ],
      "execution_count": 0,
      "outputs": []
    },
    {
      "cell_type": "code",
      "metadata": {
        "id": "9Ca4pEzGEBjA",
        "colab_type": "code",
        "outputId": "3657d9d3-d165-4d0c-cf94-8776cf2fbdd7",
        "colab": {
          "base_uri": "https://localhost:8080/",
          "height": 734
        }
      },
      "source": [
        "df_mapdata.head()"
      ],
      "execution_count": 0,
      "outputs": [
        {
          "output_type": "execute_result",
          "data": {
            "text/html": [
              "<div>\n",
              "<style scoped>\n",
              "    .dataframe tbody tr th:only-of-type {\n",
              "        vertical-align: middle;\n",
              "    }\n",
              "\n",
              "    .dataframe tbody tr th {\n",
              "        vertical-align: top;\n",
              "    }\n",
              "\n",
              "    .dataframe thead th {\n",
              "        text-align: right;\n",
              "    }\n",
              "</style>\n",
              "<table border=\"1\" class=\"dataframe\">\n",
              "  <thead>\n",
              "    <tr style=\"text-align: right;\">\n",
              "      <th></th>\n",
              "      <th>STATEFP</th>\n",
              "      <th>COUNTYFP</th>\n",
              "      <th>TRACTCE</th>\n",
              "      <th>GEOID</th>\n",
              "      <th>NAME</th>\n",
              "      <th>NAMELSAD</th>\n",
              "      <th>MTFCC</th>\n",
              "      <th>FUNCSTAT</th>\n",
              "      <th>ALAND</th>\n",
              "      <th>AWATER</th>\n",
              "      <th>INTPTLAT</th>\n",
              "      <th>INTPTLON</th>\n",
              "      <th>geometry</th>\n",
              "      <th>index</th>\n",
              "      <th>DP02_0067PE</th>\n",
              "      <th>DP05_0032PE</th>\n",
              "    </tr>\n",
              "  </thead>\n",
              "  <tbody>\n",
              "    <tr>\n",
              "      <th>0</th>\n",
              "      <td>48</td>\n",
              "      <td>453</td>\n",
              "      <td>001603</td>\n",
              "      <td>48453001603</td>\n",
              "      <td>16.03</td>\n",
              "      <td>Census Tract 16.03</td>\n",
              "      <td>G5020</td>\n",
              "      <td>S</td>\n",
              "      <td>2559600</td>\n",
              "      <td>0</td>\n",
              "      <td>+30.2984281</td>\n",
              "      <td>-097.7564434</td>\n",
              "      <td>POLYGON ((-97.76826 30.29670, -97.76746 30.297...</td>\n",
              "      <td>Census Tract 16.03, Travis County, Texas: Summ...</td>\n",
              "      <td>91.7</td>\n",
              "      <td>92.1</td>\n",
              "    </tr>\n",
              "    <tr>\n",
              "      <th>1</th>\n",
              "      <td>48</td>\n",
              "      <td>453</td>\n",
              "      <td>001605</td>\n",
              "      <td>48453001605</td>\n",
              "      <td>16.05</td>\n",
              "      <td>Census Tract 16.05</td>\n",
              "      <td>G5020</td>\n",
              "      <td>S</td>\n",
              "      <td>1894186</td>\n",
              "      <td>0</td>\n",
              "      <td>+30.2867710</td>\n",
              "      <td>-097.7605726</td>\n",
              "      <td>POLYGON ((-97.77165 30.29125, -97.77145 30.291...</td>\n",
              "      <td>Census Tract 16.05, Travis County, Texas: Summ...</td>\n",
              "      <td>86.1</td>\n",
              "      <td>93.5</td>\n",
              "    </tr>\n",
              "    <tr>\n",
              "      <th>2</th>\n",
              "      <td>48</td>\n",
              "      <td>453</td>\n",
              "      <td>001705</td>\n",
              "      <td>48453001705</td>\n",
              "      <td>17.05</td>\n",
              "      <td>Census Tract 17.05</td>\n",
              "      <td>G5020</td>\n",
              "      <td>S</td>\n",
              "      <td>5341085</td>\n",
              "      <td>0</td>\n",
              "      <td>+30.3697168</td>\n",
              "      <td>-097.7740291</td>\n",
              "      <td>POLYGON ((-97.79135 30.35929, -97.79126 30.359...</td>\n",
              "      <td>Census Tract 17.05, Travis County, Texas: Summ...</td>\n",
              "      <td>77.5</td>\n",
              "      <td>93.2</td>\n",
              "    </tr>\n",
              "    <tr>\n",
              "      <th>3</th>\n",
              "      <td>48</td>\n",
              "      <td>453</td>\n",
              "      <td>001706</td>\n",
              "      <td>48453001706</td>\n",
              "      <td>17.06</td>\n",
              "      <td>Census Tract 17.06</td>\n",
              "      <td>G5020</td>\n",
              "      <td>S</td>\n",
              "      <td>2659131</td>\n",
              "      <td>0</td>\n",
              "      <td>+30.3825426</td>\n",
              "      <td>-097.7554827</td>\n",
              "      <td>POLYGON ((-97.77051 30.38292, -97.77049 30.383...</td>\n",
              "      <td>Census Tract 17.06, Travis County, Texas: Summ...</td>\n",
              "      <td>71.1</td>\n",
              "      <td>85.1</td>\n",
              "    </tr>\n",
              "    <tr>\n",
              "      <th>4</th>\n",
              "      <td>48</td>\n",
              "      <td>453</td>\n",
              "      <td>001707</td>\n",
              "      <td>48453001707</td>\n",
              "      <td>17.07</td>\n",
              "      <td>Census Tract 17.07</td>\n",
              "      <td>G5020</td>\n",
              "      <td>S</td>\n",
              "      <td>2795279</td>\n",
              "      <td>0</td>\n",
              "      <td>+30.3727852</td>\n",
              "      <td>-097.7463444</td>\n",
              "      <td>POLYGON ((-97.75707 30.37191, -97.75686 30.372...</td>\n",
              "      <td>Census Tract 17.07, Travis County, Texas: Summ...</td>\n",
              "      <td>62.9</td>\n",
              "      <td>85.9</td>\n",
              "    </tr>\n",
              "  </tbody>\n",
              "</table>\n",
              "</div>"
            ],
            "text/plain": [
              "  STATEFP COUNTYFP  ... DP02_0067PE DP05_0032PE\n",
              "0      48      453  ...        91.7        92.1\n",
              "1      48      453  ...        86.1        93.5\n",
              "2      48      453  ...        77.5        93.2\n",
              "3      48      453  ...        71.1        85.1\n",
              "4      48      453  ...        62.9        85.9\n",
              "\n",
              "[5 rows x 16 columns]"
            ]
          },
          "metadata": {
            "tags": []
          },
          "execution_count": 219
        }
      ]
    },
    {
      "cell_type": "code",
      "metadata": {
        "id": "xmdJx9G3739U",
        "colab_type": "code",
        "outputId": "cfe6fd89-7bb2-4afd-a9ec-524f56c4ed5f",
        "colab": {
          "base_uri": "https://localhost:8080/",
          "height": 574
        }
      },
      "source": [
        "import matplotlib.pyplot as plt\n",
        "import numpy as np\n",
        "\n",
        "## percent education over Bachelor's degree\n",
        "fig, ax = plt.subplots(figsize = (10,10))\n",
        "df_mapdata.plot(column = 'DP02_0067PE', ax=ax, legend = True)\n",
        "plt.show()"
      ],
      "execution_count": 0,
      "outputs": [
        {
          "output_type": "display_data",
          "data": {
            "image/png": "[encoded data removed]",
            "text/plain": [
              "<Figure size 720x720 with 2 Axes>"
            ]
          },
          "metadata": {
            "tags": []
          }
        }
      ]
    },
    {
      "cell_type": "code",
      "metadata": {
        "id": "P2j6ZAHuEH3k",
        "colab_type": "code",
        "outputId": "82b36c86-85d8-41a9-a441-a03036256830",
        "colab": {
          "base_uri": "https://localhost:8080/",
          "height": 575
        }
      },
      "source": [
        "## percent white\n",
        "fig, ax = plt.subplots(figsize = (10,10))\n",
        "df_mapdata.plot(column = 'DP05_0032PE', ax=ax, legend = True)\n",
        "plt.show()"
      ],
      "execution_count": 0,
      "outputs": [
        {
          "output_type": "display_data",
          "data": {
            "image/png": "[encoded data removed]",
            "text/plain": [
              "<Figure size 720x720 with 2 Axes>"
            ]
          },
          "metadata": {
            "tags": []
          }
        }
      ]
    },
    {
      "cell_type": "code",
      "metadata": {
        "id": "XZ3d9ylr7-5o",
        "colab_type": "code",
        "colab": {}
      },
      "source": [
        ""
      ],
      "execution_count": 0,
      "outputs": []
    }
  ]
}